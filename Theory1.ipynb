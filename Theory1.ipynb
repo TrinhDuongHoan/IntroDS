{
 "cells": [
  {
   "cell_type": "markdown",
   "metadata": {},
   "source": [
    "Bài 1"
   ]
  },
  {
   "cell_type": "code",
   "execution_count": 4,
   "metadata": {},
   "outputs": [
    {
     "name": "stdout",
     "output_type": "stream",
     "text": [
      "Phương trình có nghiệm duy nhất là :  -1.3333333333333333\n"
     ]
    }
   ],
   "source": [
    "from math import sqrt\n",
    "def solve(a,b,c) :\n",
    "    if a == 0:\n",
    "        if b == 0 :\n",
    "            if c == 0 :\n",
    "                print(\"Phương trình có vô số nghiệm\")\n",
    "            else :\n",
    "                print(\"Phương trình vô nghiệm\")\n",
    "        else :\n",
    "            print(\"Phương trình có nghiệm duy nhất là : \", -c/b)\n",
    "    else:\n",
    "        delta = b*b - 4*a*c\n",
    "        if delta < 0 :\n",
    "            print(\"Phương trình vô nghiệm\")\n",
    "        elif delta == 0 :\n",
    "            print(\"Phương trình có nghiệm kép là : \" , -b/(2*a))\n",
    "        else :\n",
    "            print(\"Phương trình có 2 nghiệm phân biệt là x1 = \", (-b+sqrt(delta))/(2*a), \", x2 = \",(-b-sqrt(delta))/(2*a) )\n",
    "        \n",
    "if __name__ == '__main__' :\n",
    "    a,b,c = map(float,input().split())\n",
    "    solve(a,b,c)\n",
    "\n"
   ]
  },
  {
   "cell_type": "markdown",
   "metadata": {},
   "source": [
    "Bài 2"
   ]
  },
  {
   "cell_type": "code",
   "execution_count": 16,
   "metadata": {},
   "outputs": [
    {
     "name": "stdout",
     "output_type": "stream",
     "text": [
      "NO\n"
     ]
    }
   ],
   "source": [
    "n = int(input())\n",
    "flag = 1\n",
    "for i in range (2,int(n**0.5)+1) :\n",
    "    if n % i == 0 :\n",
    "        flag = 0\n",
    "        break\n",
    "print(\"YES\" if flag and n >=2 else \"NO\")"
   ]
  },
  {
   "cell_type": "markdown",
   "metadata": {},
   "source": [
    "Bài 3"
   ]
  },
  {
   "cell_type": "code",
   "execution_count": 12,
   "metadata": {},
   "outputs": [
    {
     "name": "stdout",
     "output_type": "stream",
     "text": [
      "YES\n"
     ]
    }
   ],
   "source": [
    "def isPrime(n) -> bool :\n",
    "    for i in range (2,int(n**0.5)+1) :\n",
    "        if n % i == 0  :\n",
    "            return False\n",
    "    return n > 1\n",
    "print(\"YES\" if isPrime(int(input())) else \"NO\")"
   ]
  },
  {
   "cell_type": "markdown",
   "metadata": {},
   "source": [
    "Bài 4"
   ]
  },
  {
   "cell_type": "code",
   "execution_count": 18,
   "metadata": {},
   "outputs": [
    {
     "name": "stdout",
     "output_type": "stream",
     "text": [
      "2 3 5 7 "
     ]
    }
   ],
   "source": [
    "a, b = map(int,input().split())\n",
    "for i in range (a,b+1) :\n",
    "    if isPrime(i):\n",
    "        print(i, end = ' ')\n"
   ]
  },
  {
   "cell_type": "markdown",
   "metadata": {},
   "source": [
    "Bài 5"
   ]
  },
  {
   "cell_type": "code",
   "execution_count": 20,
   "metadata": {},
   "outputs": [
    {
     "name": "stdout",
     "output_type": "stream",
     "text": [
      "3 5 7 11 13 17 19 23 29 31 37 41 43 47 53 "
     ]
    }
   ],
   "source": [
    "n = int(input())\n",
    "cnt = 0\n",
    "while cnt < 15 :\n",
    "    if isPrime(n) :\n",
    "        cnt += 1\n",
    "        print(n, end = ' ')\n",
    "    n+=1\n"
   ]
  }
 ],
 "metadata": {
  "kernelspec": {
   "display_name": "Python 3",
   "language": "python",
   "name": "python3"
  },
  "language_info": {
   "codemirror_mode": {
    "name": "ipython",
    "version": 3
   },
   "file_extension": ".py",
   "mimetype": "text/x-python",
   "name": "python",
   "nbconvert_exporter": "python",
   "pygments_lexer": "ipython3",
   "version": "3.12.1"
  }
 },
 "nbformat": 4,
 "nbformat_minor": 2
}
