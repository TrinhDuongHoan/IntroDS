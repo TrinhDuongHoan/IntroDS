{
 "cells": [
  {
   "cell_type": "code",
   "execution_count": 1,
   "metadata": {},
   "outputs": [],
   "source": [
    "class Train:\n",
    "    def __init__(self, tcode, train_name, seat, booked, depart_time, depart_place):\n",
    "        self.tcode = tcode\n",
    "        self.train_name = train_name\n",
    "        self.seat = seat\n",
    "        self.booked = booked\n",
    "        self.depart_time = depart_time\n",
    "        self.depart_place = depart_place\n",
    "    \n",
    "    def setTCode(self, new_info):\n",
    "        self.tcode = new_info\n",
    "\n",
    "    def setTrain_name(self, new_info):\n",
    "        self.train_name = new_info\n",
    "\n",
    "    def setSeat(self, new_info):\n",
    "        self.seat = new_info\n",
    "\n",
    "    def setBooked(self, new_info):\n",
    "        self.booked = new_info\n",
    "    \n",
    "    def setDepart_time(self, new_info):\n",
    "        self.depart_time = new_info\n",
    "\n",
    "    def setDepart_place(self, new_info):\n",
    "        self.depart_place = new_info\n",
    "\n",
    "    def __str__(self):\n",
    "        return f'{self.tcode:10s} | {self.train_name:20s} | {self.seat:>6s} | {self.booked:>7s} | {self.depart_time:>11s} | {self.depart_place:>12s}'"
   ]
  },
  {
   "cell_type": "code",
   "execution_count": 2,
   "metadata": {},
   "outputs": [],
   "source": [
    "class Node:\n",
    "    def __init__(self, train):\n",
    "        self.train = train\n",
    "        self.prev = None\n",
    "        self.next = None\n",
    "    \n",
    "    def display(self):\n",
    "        print(self.train)\n",
    "    \n",
    "    def infomation(self):\n",
    "        return (self.train.tcode, \n",
    "                self.train.train_name, \n",
    "                self.train.seat,\n",
    "                self.train.booked,\n",
    "                self.train.depart_time,\n",
    "                self.train.depart_place)"
   ]
  },
  {
   "cell_type": "code",
   "execution_count": 3,
   "metadata": {},
   "outputs": [],
   "source": [
    "class Trains:\n",
    "    def __init__(self) -> None:\n",
    "        self.head = None\n",
    "        self.tail = None\n",
    "    \n",
    "    def push_back(self, tcode, train_name, seat, booked, depart_time, depart_place):\n",
    "        train = Train(tcode, train_name, seat, booked, depart_time, depart_place)\n",
    "        new_node = Node(train)\n",
    "        \n",
    "        if not self.head:\n",
    "            self.head = self.tail = new_node\n",
    "            return\n",
    "\n",
    "        self.tail.next = new_node\n",
    "        new_node.prev = self.tail\n",
    "        self.tail = new_node\n",
    "    \n",
    "    def pop(self, pos):\n",
    "        if not self.head:\n",
    "            raise IndexError('Cannot delete from an empty list')\n",
    "    \n",
    "        if pos == 0:\n",
    "            self.head = self.head.next\n",
    "            self.head.prev = None\n",
    "            return\n",
    "\n",
    "        current_node = self.head\n",
    "        while current_node:\n",
    "            if pos == 0:\n",
    "                current_node.prev.next = current_node.next\n",
    "                if current_node.next:\n",
    "                    current_node.next.prev = current_node.prev\n",
    "                \n",
    "                return\n",
    "        \n",
    "            current_node = current_node.next\n",
    "            pos -= 1\n",
    "        \n",
    "        raise IndexError('index out of range')\n",
    "\n",
    "    def display(self):\n",
    "        print(f\"{'tcode':10s} | {'train_name':20s} | {'seat':>6s} | {'booked':>7s} | {'depart_time':>11s} | {'depart_place':>12s}\")\n",
    "        current_node = self.head\n",
    "        while current_node:\n",
    "            current_node.display()\n",
    "            current_node = current_node.next\n",
    "    \n",
    "    def save(self):\n",
    "        with open('save.txt', 'w') as file:\n",
    "            current_node = self.head\n",
    "            while current_node:\n",
    "                file.write(str(current_node.train) + '\\n')\n",
    "                current_node = current_node.next\n",
    "    \n",
    "    def __find_index__(self, tcode):\n",
    "        pos = 0\n",
    "        current_node = self.head\n",
    "        while current_node:\n",
    "            if current_node.train.tcode == tcode:\n",
    "                return pos\n",
    "\n",
    "            current_node = current_node.next\n",
    "            pos += 1\n",
    "        \n",
    "        return -1\n",
    "    \n",
    "    def find(self, tcode):\n",
    "        pos = self.__find_index__(tcode)\n",
    "\n",
    "        if pos == -1:\n",
    "            raise ValueError('Not Exist tcode in Trains')\n",
    "\n",
    "        return self.get(pos).infomation()\n",
    "\n",
    "    def get(self, pos):\n",
    "        current_node = self.head\n",
    "        while current_node:\n",
    "            if pos == 0:\n",
    "                return current_node\n",
    "            current_node = current_node.next\n",
    "            pos -= 1\n",
    "        \n",
    "        raise IndexError('Index out of range')\n",
    "\n",
    "    def insert(self, pos, tcode, train_name, seat, booked, depart_time, depart_place):\n",
    "        if pos == 0:\n",
    "            raise IndexError('Index out of range')\n",
    "\n",
    "        train = Train(tcode, train_name, seat, booked, depart_time, depart_place)\n",
    "        new_node = Node(train)\n",
    "        current_node = self.head\n",
    "        while current_node:\n",
    "            if pos == 0:\n",
    "                new_node.next = current_node.next\n",
    "                current_node.next = new_node\n",
    "                return\n",
    "        \n",
    "            current_node = current_node.next\n",
    "            pos -= 1\n",
    "        \n",
    "        raise IndexError('Index out of range')\n",
    "\n",
    "    def erase(self, tcode):\n",
    "        pos = self.__find_index__(tcode)\n",
    "        if pos == -1:\n",
    "            raise IndexError('Index out of range')\n",
    "        \n",
    "        self.pop(pos)\n",
    "    \n",
    "    def erase_back(self, tcode):\n",
    "        pos = self.__find_index__(tcode)\n",
    "        if pos <= 0:\n",
    "            raise IndexError('Index out of range')\n",
    "\n",
    "        self.pop(pos - 1)\n",
    "    \n",
    "    def fix(self, tcode):\n",
    "        pos = self.__find_index__(tcode)\n",
    "        if pos == -1:\n",
    "            raise IndexError('Index out of range')\n",
    "        \n",
    "        node = self.get(pos)\n",
    "        lst = ['tcode', 'train_name', 'seat', 'booked', 'depart_time', 'depart_place']\n",
    "        for str in lst:\n",
    "            print(f'Có muốn sửa thông tin của {str}? (0, 1):')\n",
    "            choice = int(input())\n",
    "            if choice == 0:\n",
    "                continue\n",
    "\n",
    "            new_info = input('Nhập thông tin mới:')\n",
    "            if str == 'tcode':\n",
    "                node.train.setTCode(new_info)\n",
    "            elif str == 'train_name':\n",
    "                node.train.setTrain_name(new_info)\n",
    "            elif str == 'seat':\n",
    "                node.train.setSeat(new_info)\n",
    "            elif str == 'booked':\n",
    "                node.train.setBooked(new_info)\n",
    "            elif str == 'depart_time':\n",
    "                node.train.setDepart_time(new_info)\n",
    "            else:\n",
    "                node.train.setDepart_place(new_info)\n",
    "            print(f'Đã sửa lại thông tin của {str}')\n",
    "    \n",
    "    def sort(self):\n",
    "        sorted = False\n",
    "        while not sorted:\n",
    "            sorted = True\n",
    "            current_node = self.head.next\n",
    "            while current_node:\n",
    "                if current_node.prev.train.tcode > current_node.train.tcode:\n",
    "                    current_node.prev.train, current_node.train = current_node.train, current_node.prev.train\n",
    "                    sorted = False\n",
    "\n",
    "                current_node = current_node.next"
   ]
  },
  {
   "cell_type": "code",
   "execution_count": 4,
   "metadata": {},
   "outputs": [],
   "source": [
    "trains = Trains()"
   ]
  },
  {
   "cell_type": "code",
   "execution_count": 5,
   "metadata": {},
   "outputs": [],
   "source": [
    "# 1.1\n",
    "with open('input.txt', 'r') as file:\n",
    "    for line in file:\n",
    "        tcode, train_name, seat, booked, depart_time, depart_place = line.strip().split('|')\n",
    "        trains.push_back(tcode, train_name, seat, booked, depart_time, depart_place)"
   ]
  },
  {
   "cell_type": "code",
   "execution_count": 6,
   "metadata": {},
   "outputs": [
    {
     "name": "stdout",
     "output_type": "stream",
     "text": [
      " B08 Busan 8 7 4 SG\n"
     ]
    }
   ],
   "source": [
    "# 1.2\n",
    "tcode, train_name, seat, booked, depart_time, depart_place = input().split()\n",
    "trains.push_back(tcode, train_name, seat, booked, depart_time, depart_place)"
   ]
  },
  {
   "cell_type": "code",
   "execution_count": 7,
   "metadata": {},
   "outputs": [
    {
     "name": "stdout",
     "output_type": "stream",
     "text": [
      "tcode      | train_name           |   seat |  booked | depart_time | depart_place\n",
      "B03        | Sug                  |     12 |       3 |          11 |           PA\n",
      "B01        | Mil                  |     10 |       5 |         5.7 |           PC\n",
      "B02        | App                  |      5 |       2 |           4 |           PB\n",
      "B05        | Roo                  |      7 |       6 |          15 |           PE\n",
      "B07        | Bee                  |     11 |       3 |          12 |           PF\n",
      "B04        | Boo                  |      9 |       5 |           5 |           PD\n",
      "B08        | Busan                |      8 |       7 |           4 |           SG\n"
     ]
    }
   ],
   "source": [
    "# 1.3\n",
    "trains.display()"
   ]
  },
  {
   "cell_type": "code",
   "execution_count": 8,
   "metadata": {},
   "outputs": [],
   "source": [
    "# 1.4\n",
    "trains.save()"
   ]
  },
  {
   "cell_type": "code",
   "execution_count": 9,
   "metadata": {},
   "outputs": [
    {
     "data": {
      "text/plain": [
       "('B01', 'Mil', '10', '5', '5.7', 'PC')"
      ]
     },
     "execution_count": 9,
     "metadata": {},
     "output_type": "execute_result"
    }
   ],
   "source": [
    "# 1.5\n",
    "trains.find('B01')"
   ]
  },
  {
   "cell_type": "code",
   "execution_count": 10,
   "metadata": {},
   "outputs": [
    {
     "name": "stdout",
     "output_type": "stream",
     "text": [
      "tcode      | train_name           |   seat |  booked | depart_time | depart_place\n",
      "B03        | Sug                  |     12 |       3 |          11 |           PA\n",
      "B02        | App                  |      5 |       2 |           4 |           PB\n",
      "B05        | Roo                  |      7 |       6 |          15 |           PE\n",
      "B07        | Bee                  |     11 |       3 |          12 |           PF\n",
      "B04        | Boo                  |      9 |       5 |           5 |           PD\n",
      "B08        | Busan                |      8 |       7 |           4 |           SG\n"
     ]
    }
   ],
   "source": [
    "# 1.6\n",
    "trains.erase('B01')\n",
    "trains.display()"
   ]
  },
  {
   "cell_type": "code",
   "execution_count": 11,
   "metadata": {},
   "outputs": [
    {
     "name": "stdout",
     "output_type": "stream",
     "text": [
      "tcode      | train_name           |   seat |  booked | depart_time | depart_place\n",
      "B02        | App                  |      5 |       2 |           4 |           PB\n",
      "B03        | Sug                  |     12 |       3 |          11 |           PA\n",
      "B04        | Boo                  |      9 |       5 |           5 |           PD\n",
      "B05        | Roo                  |      7 |       6 |          15 |           PE\n",
      "B07        | Bee                  |     11 |       3 |          12 |           PF\n",
      "B08        | Busan                |      8 |       7 |           4 |           SG\n"
     ]
    }
   ],
   "source": [
    "# 1.7\n",
    "trains.sort()\n",
    "trains.display()"
   ]
  },
  {
   "cell_type": "code",
   "execution_count": 12,
   "metadata": {},
   "outputs": [
    {
     "name": "stdout",
     "output_type": "stream",
     "text": [
      " BA9 Nasbu 9 8 3 HP\n"
     ]
    },
    {
     "name": "stdout",
     "output_type": "stream",
     "text": [
      "tcode      | train_name           |   seat |  booked | depart_time | depart_place\n",
      "B02        | App                  |      5 |       2 |           4 |           PB\n",
      "B03        | Sug                  |     12 |       3 |          11 |           PA\n",
      "B04        | Boo                  |      9 |       5 |           5 |           PD\n",
      "BA9        | Nasbu                |      9 |       8 |           3 |           HP\n",
      "B05        | Roo                  |      7 |       6 |          15 |           PE\n",
      "B07        | Bee                  |     11 |       3 |          12 |           PF\n",
      "B08        | Busan                |      8 |       7 |           4 |           SG\n"
     ]
    }
   ],
   "source": [
    "# 1.8\n",
    "tcode, train_name, seat, booked, depart_time, depart_place = input().split()\n",
    "trains.insert(2, tcode, train_name, seat, booked, depart_time, depart_place)\n",
    "trains.display()"
   ]
  },
  {
   "cell_type": "code",
   "execution_count": 13,
   "metadata": {},
   "outputs": [
    {
     "name": "stdout",
     "output_type": "stream",
     "text": [
      "Có muốn sửa thông tin của tcode? (0, 1):\n"
     ]
    },
    {
     "name": "stdout",
     "output_type": "stream",
     "text": [
      " 1\n",
      "Nhập thông tin mới: B09\n"
     ]
    },
    {
     "name": "stdout",
     "output_type": "stream",
     "text": [
      "Đã sửa lại thông tin của tcode\n",
      "Có muốn sửa thông tin của train_name? (0, 1):\n"
     ]
    },
    {
     "name": "stdout",
     "output_type": "stream",
     "text": [
      " 0\n"
     ]
    },
    {
     "name": "stdout",
     "output_type": "stream",
     "text": [
      "Có muốn sửa thông tin của seat? (0, 1):\n"
     ]
    },
    {
     "name": "stdout",
     "output_type": "stream",
     "text": [
      " 0\n"
     ]
    },
    {
     "name": "stdout",
     "output_type": "stream",
     "text": [
      "Có muốn sửa thông tin của booked? (0, 1):\n"
     ]
    },
    {
     "name": "stdout",
     "output_type": "stream",
     "text": [
      " 1\n",
      "Nhập thông tin mới: 6\n"
     ]
    },
    {
     "name": "stdout",
     "output_type": "stream",
     "text": [
      "Đã sửa lại thông tin của booked\n",
      "Có muốn sửa thông tin của depart_time? (0, 1):\n"
     ]
    },
    {
     "name": "stdout",
     "output_type": "stream",
     "text": [
      " 1\n",
      "Nhập thông tin mới: 8\n"
     ]
    },
    {
     "name": "stdout",
     "output_type": "stream",
     "text": [
      "Đã sửa lại thông tin của depart_time\n",
      "Có muốn sửa thông tin của depart_place? (0, 1):\n"
     ]
    },
    {
     "name": "stdout",
     "output_type": "stream",
     "text": [
      " 0\n"
     ]
    },
    {
     "name": "stdout",
     "output_type": "stream",
     "text": [
      "tcode      | train_name           |   seat |  booked | depart_time | depart_place\n",
      "B02        | App                  |      5 |       2 |           4 |           PB\n",
      "B03        | Sug                  |     12 |       3 |          11 |           PA\n",
      "B04        | Boo                  |      9 |       5 |           5 |           PD\n",
      "B09        | Nasbu                |      9 |       6 |           8 |           HP\n",
      "B05        | Roo                  |      7 |       6 |          15 |           PE\n",
      "B07        | Bee                  |     11 |       3 |          12 |           PF\n",
      "B08        | Busan                |      8 |       7 |           4 |           SG\n"
     ]
    }
   ],
   "source": [
    "# 1.9\n",
    "trains.fix('BA9')\n",
    "trains.display()"
   ]
  },
  {
   "cell_type": "code",
   "execution_count": 14,
   "metadata": {},
   "outputs": [
    {
     "name": "stdout",
     "output_type": "stream",
     "text": [
      "tcode      | train_name           |   seat |  booked | depart_time | depart_place\n",
      "B02        | App                  |      5 |       2 |           4 |           PB\n",
      "B03        | Sug                  |     12 |       3 |          11 |           PA\n",
      "B04        | Boo                  |      9 |       5 |           5 |           PD\n",
      "B09        | Nasbu                |      9 |       6 |           8 |           HP\n",
      "B05        | Roo                  |      7 |       6 |          15 |           PE\n",
      "B08        | Busan                |      8 |       7 |           4 |           SG\n"
     ]
    }
   ],
   "source": [
    "# 1.10\n",
    "trains.erase_back('B08')\n",
    "trains.display()"
   ]
  }
 ],
 "metadata": {
  "kernelspec": {
   "display_name": "Python 3 (ipykernel)",
   "language": "python",
   "name": "python3"
  },
  "language_info": {
   "codemirror_mode": {
    "name": "ipython",
    "version": 3
   },
   "file_extension": ".py",
   "mimetype": "text/x-python",
   "name": "python",
   "nbconvert_exporter": "python",
   "pygments_lexer": "ipython3",
   "version": "3.11.8"
  }
 },
 "nbformat": 4,
 "nbformat_minor": 4
}
