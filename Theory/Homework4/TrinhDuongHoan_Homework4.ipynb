{
 "cells": [
  {
   "cell_type": "markdown",
   "metadata": {},
   "source": [
    "### Bài 1 : Xây dựng danh sách liên kết đơn với các hàm theo yêu cầu "
   ]
  },
  {
   "cell_type": "markdown",
   "metadata": {},
   "source": [
    "- Linked list"
   ]
  },
  {
   "cell_type": "code",
   "execution_count": 58,
   "metadata": {},
   "outputs": [],
   "source": [
    "# Khởi tạo Node \n",
    "class Node :\n",
    "    def __init__(self, data) -> None:\n",
    "        self.data = data \n",
    "        self.next = None\n",
    "\n",
    "# Khởi tạo Linked List\n",
    "class Linked_List :\n",
    "    # Khởi tạo danh sách \n",
    "    def __init__(self) -> None:\n",
    "        self.head = None\n",
    "        self.tail = None\n",
    "        \n",
    "    # 1.1 Thêm vào một node có giá trị e1 vào cuối danh sách liên kết \n",
    "    def add_node_tail(self, data) : \n",
    "        new_node = Node(data)\n",
    "        if not self.head :\n",
    "            self.head = new_node\n",
    "            self.tail = new_node\n",
    "            return\n",
    "        self.tail.next = new_node\n",
    "        self.tail = new_node\n",
    "\n",
    "\n",
    "    # 1.2 Thêm vào một node có giá trị e1 vào đầu danh sách liên kết \n",
    "    def add_node_head(self, data):\n",
    "        new_node = Node(data)\n",
    "        if not self.head :\n",
    "            self.head = new_node\n",
    "            self.tail = new_node\n",
    "            return\n",
    "        p = self.head \n",
    "        new_node.next = p\n",
    "        self.head = new_node\n",
    "\n",
    "    # 1.3 Thêm vào một node có giá trị e1 vào vị trí pos trong danh sách\n",
    "    def add_node_in_pos(self , data, pos) :\n",
    "        new_node = Node(data)\n",
    "        if pos == 1 : \n",
    "            self.add_node_head(data)\n",
    "            return\n",
    "        current_node = self.head\n",
    "        for _ in range (pos-2) :\n",
    "            if current_node is None :\n",
    "                print(\"Invalid position\")\n",
    "                return \n",
    "            current_node = current_node.next \n",
    "        new_node.next = current_node.next\n",
    "        current_node.next = new_node\n",
    "\n",
    "    # 1.4 Đếm số phần tử trong danh sách \n",
    "    def count_element(self):\n",
    "        current_node = self.head\n",
    "        cnt = 0\n",
    "        while current_node :\n",
    "            cnt += 1\n",
    "            current_node = current_node.next\n",
    "        return cnt\n",
    "    \n",
    "    # 1.5 Xóa phần tử ở đầu danh sách \n",
    "    def del_node_head(self):\n",
    "        if not self.head :\n",
    "            return \n",
    "        temp = self.head\n",
    "        self.head = self.head.next\n",
    "        if self.tail is temp :\n",
    "            self.tail = None\n",
    "        del temp\n",
    "    \n",
    "    # 1.6 Xóa phần tử ở cuối danh sách\n",
    "    def del_node_tail(self) : \n",
    "        if not self.tail :\n",
    "            return \n",
    "        current_node = self.head\n",
    "        while current_node.next != self.tail :\n",
    "            current_node = current_node.next\n",
    "        temp = self.tail\n",
    "        self.tail = current_node\n",
    "        current_node.next = None\n",
    "        del temp\n",
    "\n",
    "    # 1.7 Xóa một phần tử tại vị trí pos trong danh sách\n",
    "    \n",
    "    def del_node_at_pos(self, pos) :\n",
    "        if pos == 1 :\n",
    "            self.del_node_head()\n",
    "            return\n",
    "        current_node = self.head\n",
    "        for _ in range (pos-2) :\n",
    "            if current_node is None :\n",
    "                print(\"Invalid position\")\n",
    "                return\n",
    "            current_node = current_node.next\n",
    "        if current_node.next is self.tail :\n",
    "            self.del_node_tail()\n",
    "            return\n",
    "        temp = current_node.next\n",
    "        current_node.next = temp.next\n",
    "        del temp\n",
    "    \n",
    "    # 1.8 Tìm một phần tử có giá trị e1 và trả về vị trí trong danh sách, nếu không có trả về -1 \n",
    "    \n",
    "    def find_index(self, value) :\n",
    "        flag = -1\n",
    "        idx = 1\n",
    "        current_node = self.head \n",
    "        while current_node :\n",
    "            if current_node.data == value :\n",
    "                flag = idx\n",
    "                break\n",
    "            idx += 1\n",
    "            current_node = current_node.next\n",
    "        return flag\n",
    "\n",
    "    # 1.9 Tìm một phần tử ở vị trí pos trong danh sách và trả về vị trí của nó\n",
    "\n",
    "    def find_value (self, pos):\n",
    "        if pos == 1 :\n",
    "            return self.head.data\n",
    "        current_node = self.head\n",
    "        for _ in range(pos-1) :\n",
    "            if current_node is None :\n",
    "                print(\"Invalid position\")\n",
    "                return\n",
    "            current_node = current_node.next\n",
    "        return current_node.data\n",
    "        \n",
    "    # 1.10 In ra danh sách \n",
    "    def display(self) :\n",
    "        current_node = self.head\n",
    "        while current_node :\n",
    "            print(current_node.data , end = '')\n",
    "            current_node = current_node.next\n",
    "            if current_node != None :\n",
    "                print('->', end = '')\n",
    "        print()\n",
    "    # 1.11 Sắp xếp danh sách theo giải thuật Bubble Sort\n",
    "    \n",
    "    def sort(self) :\n",
    "        if not self.head :\n",
    "            return \n",
    "        swapped = True\n",
    "        sorted_node = None\n",
    "        while swapped:\n",
    "            swapped = False\n",
    "            current_node = self.head\n",
    "            while current_node.next != sorted_node:\n",
    "                if current_node.data > current_node.next.data:\n",
    "                    current_node.data, current_node.next.data = current_node.next.data, current_node.data\n",
    "                    swapped = True\n",
    "                current_node = current_node.next\n",
    "            sorted_node = current_node\n"
   ]
  },
  {
   "cell_type": "markdown",
   "metadata": {},
   "source": [
    "- Testing"
   ]
  },
  {
   "cell_type": "code",
   "execution_count": 59,
   "metadata": {},
   "outputs": [],
   "source": [
    "# Khởi tạo \n",
    "linked_list = Linked_List()"
   ]
  },
  {
   "cell_type": "code",
   "execution_count": 60,
   "metadata": {},
   "outputs": [
    {
     "name": "stdout",
     "output_type": "stream",
     "text": [
      "4->1->3->2\n"
     ]
    }
   ],
   "source": [
    "# Thêm node ở đầu\n",
    "linked_list.add_node_head(2)\n",
    "linked_list.add_node_head(3)\n",
    "linked_list.add_node_head(1)\n",
    "linked_list.add_node_head(4)\n",
    "linked_list.display()"
   ]
  },
  {
   "cell_type": "code",
   "execution_count": 61,
   "metadata": {},
   "outputs": [
    {
     "name": "stdout",
     "output_type": "stream",
     "text": [
      "4->1->3->2->5->7->6\n"
     ]
    }
   ],
   "source": [
    "# Thêm node ở cuối\n",
    "linked_list.add_node_tail(5)\n",
    "linked_list.add_node_tail(7)\n",
    "linked_list.add_node_tail(6)\n",
    "linked_list.display()"
   ]
  },
  {
   "cell_type": "code",
   "execution_count": 62,
   "metadata": {},
   "outputs": [
    {
     "name": "stdout",
     "output_type": "stream",
     "text": [
      "4->1->3->8->2->5->7->6\n",
      "4->1->9->3->8->2->5->7->6\n"
     ]
    }
   ],
   "source": [
    "# Thêm node tại vị trí bất kì\n",
    "linked_list.add_node_in_pos(8,4) # Thêm node có giá trị 8 vào vị trí 4\n",
    "linked_list.display()\n",
    "linked_list.add_node_in_pos(9,3) # Thêm node có giá trị 9 vào vị trí 3\n",
    "linked_list.display()"
   ]
  },
  {
   "cell_type": "code",
   "execution_count": 63,
   "metadata": {},
   "outputs": [
    {
     "name": "stdout",
     "output_type": "stream",
     "text": [
      "9\n"
     ]
    }
   ],
   "source": [
    "# Đếm số lượng node trong danh sách\n",
    "len_LL = linked_list.count_element()\n",
    "print(len_LL)"
   ]
  },
  {
   "cell_type": "code",
   "execution_count": 64,
   "metadata": {},
   "outputs": [
    {
     "name": "stdout",
     "output_type": "stream",
     "text": [
      "1->9->3->8->2->5->7->6\n"
     ]
    }
   ],
   "source": [
    "# Xóa phần tử ở đầu\n",
    "linked_list.del_node_head()\n",
    "linked_list.display()"
   ]
  },
  {
   "cell_type": "code",
   "execution_count": 65,
   "metadata": {},
   "outputs": [
    {
     "name": "stdout",
     "output_type": "stream",
     "text": [
      "1->9->3->8->2->5->7\n"
     ]
    }
   ],
   "source": [
    "# Xóa phần tử ở cuối\n",
    "linked_list.del_node_tail()\n",
    "linked_list.display()"
   ]
  },
  {
   "cell_type": "code",
   "execution_count": 66,
   "metadata": {},
   "outputs": [
    {
     "name": "stdout",
     "output_type": "stream",
     "text": [
      "1->3->8->2->5->7\n"
     ]
    }
   ],
   "source": [
    "# Xóa phần tử tại vị trí pos\n",
    "linked_list.del_node_at_pos(2) # Xóa phần tử tại vị trí 2\n",
    "linked_list.display()"
   ]
  },
  {
   "cell_type": "code",
   "execution_count": 67,
   "metadata": {},
   "outputs": [
    {
     "name": "stdout",
     "output_type": "stream",
     "text": [
      "2\n",
      "-1\n"
     ]
    }
   ],
   "source": [
    "# Tìm phần tử có giá trị el và trả về vị trí của nó, nếu không có trả về -1\n",
    "pos1 = linked_list.find_index(3)\n",
    "pos2 = linked_list.find_index(10)\n",
    "print(pos1) # 2\n",
    "print(pos2) # -1"
   ]
  },
  {
   "cell_type": "code",
   "execution_count": 68,
   "metadata": {},
   "outputs": [
    {
     "name": "stdout",
     "output_type": "stream",
     "text": [
      "1->2->3->5->7->8\n"
     ]
    }
   ],
   "source": [
    "# Sắp xếp danh sách theo thuật toán Bubble sort rồi in ra danh sách \n",
    "linked_list.sort()\n",
    "linked_list.display()"
   ]
  },
  {
   "cell_type": "markdown",
   "metadata": {},
   "source": [
    "### Bài 2 "
   ]
  },
  {
   "cell_type": "markdown",
   "metadata": {},
   "source": [
    "#### 2.1 Xây dựng một cấu trúc Stack (Vào trước ra sau)\n"
   ]
  },
  {
   "cell_type": "markdown",
   "metadata": {},
   "source": [
    "- Code"
   ]
  },
  {
   "cell_type": "code",
   "execution_count": 69,
   "metadata": {},
   "outputs": [],
   "source": [
    "class Element :\n",
    "    def __init__(self, value) -> None:\n",
    "        self.data = value\n",
    "        self.next = None\n",
    "\n",
    "class Stack :\n",
    "    def __init__(self) -> None:\n",
    "        self.front = None\n",
    "    \n",
    "    # Kiểm tra tính rỗng của stack\n",
    "    def isEmpty(self):\n",
    "        return self.front is None\n",
    "    \n",
    "    # Thêm phần tử vào đỉnh stack \n",
    "    def push(self, value):\n",
    "        ele = Element(value)\n",
    "        if self.front is None :\n",
    "            self.front = ele\n",
    "            return \n",
    "        temp = self.front\n",
    "        ele.next = temp\n",
    "        self.front = ele\n",
    "    \n",
    "    # Truy cập phần tử ở đầu đỉnh stack \n",
    "\n",
    "    def top(self) :\n",
    "        if self.isEmpty() :\n",
    "            return None\n",
    "        return self.front.data\n",
    "\n",
    "    # Xóa phần tử ra khỏi stack \n",
    "    def pop(self) :\n",
    "        if self.isEmpty():\n",
    "            return \n",
    "        ele = self.front\n",
    "        self.front = self.front.next\n",
    "        x = ele.data\n",
    "        del ele\n",
    "        return x\n",
    "        "
   ]
  },
  {
   "cell_type": "markdown",
   "metadata": {},
   "source": [
    "- Testing"
   ]
  },
  {
   "cell_type": "code",
   "execution_count": 70,
   "metadata": {},
   "outputs": [],
   "source": [
    "# Khởi tạo stack \n",
    "st = Stack()"
   ]
  },
  {
   "cell_type": "code",
   "execution_count": 71,
   "metadata": {},
   "outputs": [],
   "source": [
    "# Thêm một phần tử vào đỉnh stack\n",
    "st.push(3)\n",
    "st.push(5)"
   ]
  },
  {
   "cell_type": "code",
   "execution_count": 72,
   "metadata": {},
   "outputs": [
    {
     "data": {
      "text/plain": [
       "5"
      ]
     },
     "execution_count": 72,
     "metadata": {},
     "output_type": "execute_result"
    }
   ],
   "source": [
    "# Xóa phần tử trên đỉnh stack\n",
    "x = st.pop()\n",
    "x"
   ]
  },
  {
   "cell_type": "markdown",
   "metadata": {},
   "source": [
    "#### 2.2 Tạo công cụ để tính toán số nguyên lớn"
   ]
  },
  {
   "cell_type": "markdown",
   "metadata": {},
   "source": [
    "- Code"
   ]
  },
  {
   "cell_type": "code",
   "execution_count": 73,
   "metadata": {},
   "outputs": [],
   "source": [
    "# Tạo lớp dùng để tính toán số nguyên lớn sử dụng stack\n",
    "class Calculator:\n",
    "    def __init__(self) -> None:\n",
    "        pass\n",
    "\n",
    "    def convert(self, str_num) -> Stack: # Hàm dùng để chuyển chuỗi thành stack\n",
    "        stack = Stack()\n",
    "        for c in str_num:\n",
    "            stack.push(int(c))\n",
    "        \n",
    "        return stack\n",
    "    \n",
    "    def re_convert(self, stack_num) -> str: # Hàm dùng để chuyển stack thành chuõi\n",
    "        # Nếu stack rỗng trả về 0\n",
    "        if stack_num.isEmpty():\n",
    "            return '0'\n",
    "            \n",
    "        ret = ''\n",
    "        while not stack_num.isEmpty():\n",
    "            ret = ret + str(stack_num.pop())\n",
    "        return ret\n",
    "\n",
    "    def compare(self, num1_, num2_) -> int: # Hàm so sánh hai số nguyên đang ở dạng chuỗi\n",
    "        if len(num1_) != len(num2_):\n",
    "            if len(num1_) < len(num2_):\n",
    "                return -1 # Nghĩa là num1_ nhỏ hơn num2_\n",
    "        elif num1_ == num2_:\n",
    "            return 0 # Nghĩa là num1_ bằng num2_\n",
    "        elif num1_ < num2_:\n",
    "            return -1 # Nghĩa là num1_ nhỏ hơn num2_\n",
    "        return 1 # Nghĩa là num1_ lớn hơn num2_\n",
    "    \n",
    "    def plus(self, num1_, num2_) -> str: # Hàm cộng hai số ở dạng chuỗi\n",
    "        num1 = self.convert(num1_) # Chuyển num1_ thành dạng stack'                                                                        \n",
    "        num2 = self.convert(num2_)\n",
    "        \n",
    "        mem = 0 # Dùng để lưu giá trị nhớ của phép cộng. VD: 9 + 9 = 18, viết 8 nhớ 1 (mem = 1)\n",
    "        stack = Stack()\n",
    "        while not num1.isEmpty() or not num2.isEmpty():\n",
    "            a = 0 if num1.isEmpty() else num1.pop()\n",
    "            b = 0 if num2.isEmpty() else num2.pop()\n",
    "            sum = a + b + mem\n",
    "\n",
    "            stack.push(sum % 10)\n",
    "            mem = sum // 10\n",
    "\n",
    "        if mem != 0:\n",
    "            stack.push(mem)\n",
    "\n",
    "        # Trả về kết quả của phép tính \n",
    "        return self.re_convert(stack)\n",
    "    \n",
    "    def minus(self, num1_, num2_) -> str: # Hàm trử hai số nguyên ở dạng chuỗi\n",
    "        # Nếu num1_ nhỏ hơn num2_ thì kết quả sẽ là ngược của num2_ - num1_. VD: 1 - 3 = - (3 - 1) = -2\n",
    "        if self.compare(num1_, num2_) == -1: \n",
    "            return '-' + self.minus(num2_, num1_)\n",
    "        \n",
    "        num1 = self.convert(num1_)\n",
    "        num2 = self.convert(num2_)\n",
    "        \n",
    "        mem = 0\n",
    "        stack = Stack()\n",
    "        while not num1.isEmpty() or not num2.isEmpty():\n",
    "            a = 0 if num1.isEmpty() else num1.pop()\n",
    "            b = 0 if num2.isEmpty() else num2.pop()\n",
    "            sum = a - b - mem\n",
    "\n",
    "            stack.push((sum + 10) % 10)\n",
    "            mem = sum < 0\n",
    "\n",
    "        while not stack.isEmpty() and stack.top() == 0: # Xóa những số 0 vô nghĩa của đáp án. VD: 00134 = 134\n",
    "            stack.pop()\n",
    "\n",
    "        # Trả về kết quả của phép tính\n",
    "        return self.re_convert(stack)\n",
    "\n",
    "    def multiply(self, num1_, num2_) -> str: # Hàm nhân hai số dạng chuõi\n",
    "        ret = ''\n",
    "        power = 0\n",
    "\n",
    "        for num in num2_[::-1]: # Nhân từng chữ số ở hàng đơn vị (num) trước với num1_ và tính tổng\n",
    "            stack = Stack()\n",
    "            mem = 0\n",
    "\n",
    "            for _ in range(power): # Thêm các số 0 vào kết quả của phép nhân từng đơn vị\n",
    "                stack.push(0)\n",
    "\n",
    "            for digit in num1_[::-1]: # Thực hiện phép nhân từng digit của num1_ với num\n",
    "                sum = int(num) * int(digit) + mem\n",
    "\n",
    "                stack.push(sum % 10)\n",
    "                mem = sum // 10\n",
    "            \n",
    "            if mem != 0:\n",
    "                stack.push(mem)\n",
    "\n",
    "            # Kết quả trả về sẽ là tổng của các tích\n",
    "            ret = self.plus(ret, self.re_convert(stack))\n",
    "            power += 1\n",
    "\n",
    "        # Trả về kết quả của phép nhân\n",
    "        return ret\n",
    "\n",
    "    def divide_int(self, num, integer) -> str: # Hàm dùng để chia số nguyên lớn ở dạng chuỗi với một số nguyên kiểu int\n",
    "        stack = Stack()\n",
    "        ret = Stack()\n",
    "\n",
    "        cur = 0\n",
    "        for digit in num:\n",
    "            cur = cur * 10 + int(digit)\n",
    "            stack.push(cur // integer)\n",
    "            cur %= integer\n",
    "        \n",
    "        while not stack.isEmpty(): # Đảo ngược kết quả hiện tại\n",
    "            ret.push(stack.pop())\n",
    "\n",
    "        while not ret.isEmpty() and ret.top() == 0: # Xóa những số 0 vô nghĩa của kết quả\n",
    "            ret.pop()\n",
    "\n",
    "        # Trả về kết quả của phép chia\n",
    "        return self.re_convert(ret)\n",
    "\n",
    "    def divide(self, num1_, num2_) -> str: # Hàm chia nguyên 2 số nguyên ở dạng chuỗi\n",
    "        \"\"\"\n",
    "        Sử dụng thuật toán tìm kiếm nhị phân kết quả của bài toán.\n",
    "        Ý tưởng của thuật toán sẽ là tìm giá trị answer lớn nhất để num2_ * answer <= num1_\n",
    "        Giả sử ta có 1 giá trị x thỏa mản num2_ * x <= num1_ thì kết quả của bài toán sẽ là answer >= x\n",
    "        Vậy ta nên tìm kiếm kết quả lớn hơn x hoặc ngược lại ta cần tìm kết quả bé hơn x.\n",
    "        \"\"\"\n",
    "        l ='0' # Cận dưới của kết quả\n",
    "        r = num1_ if self.compare(num1_, num2_) == 1 else num2_ # Cận trên của kết quả\n",
    "        one ='1' # Số 1 ở dạng chuỗi\n",
    "        \n",
    "        ret = '0' # Kết quả trả về\n",
    "        while self.compare(l, r) <= 0: # Nếu khoảng tìm kiếm kết quả vẫn còn\n",
    "            l_plus_r = self.plus(l, r)\n",
    "            mid = self.divide_int(l_plus_r, 2) # Giả sử x = mid là trung bình cộng của l và r\n",
    "\n",
    "            val = self.multiply(num2_, mid) # kết quả của num2_ * mid\n",
    "            if self.compare(val, num1_) <= 0: # So sánh nếu num2_ * mid <= num1_\n",
    "                ret = mid # Cập nhật kết quả của bài toán\n",
    "                l = self.plus(mid, one) # Tăng cận dưới của khoảng tìm kiếm lên 1 đơn vị\n",
    "            else:\n",
    "                r = self.minus(mid, one) # Giảm cận trên của khoảng tìm kiếm xuống 1 đơn vị\n",
    "\n",
    "        # Trả về kết quả của phép chia nguyên\n",
    "        return ret"
   ]
  },
  {
   "cell_type": "markdown",
   "metadata": {},
   "source": [
    "- Testing"
   ]
  },
  {
   "cell_type": "code",
   "execution_count": 74,
   "metadata": {},
   "outputs": [],
   "source": [
    "# Khởi tạo cal dùng để tính toán các số nguyên lớn ở dạng chuỗi\n",
    "cal = Calculator()"
   ]
  },
  {
   "cell_type": "code",
   "execution_count": 75,
   "metadata": {},
   "outputs": [
    {
     "name": "stdout",
     "output_type": "stream",
     "text": [
      "1234567798553475\n",
      "23416754833454\n"
     ]
    }
   ],
   "source": [
    "# Nhập 2 số nguyên lớn\n",
    "num1_ = input('Nhập số nguyên đầu tiên:')\n",
    "num2_ = input('Nhập số nguyên thứ hai:')\n",
    "print(num1_)\n",
    "print(num2_)"
   ]
  },
  {
   "cell_type": "code",
   "execution_count": 76,
   "metadata": {},
   "outputs": [
    {
     "name": "stdout",
     "output_type": "stream",
     "text": [
      "1234567798553475 + 23416754833454 = 1257984553386929\n"
     ]
    }
   ],
   "source": [
    "print(f'{num1_} + {num2_} = {cal.plus(num1_, num2_)}')"
   ]
  },
  {
   "cell_type": "code",
   "execution_count": 77,
   "metadata": {},
   "outputs": [
    {
     "name": "stdout",
     "output_type": "stream",
     "text": [
      "1234567798553475 - 23416754833454 = 1211151043720021\n"
     ]
    }
   ],
   "source": [
    "print(f'{num1_} - {num2_} = {cal.minus(num1_, num2_)}')"
   ]
  },
  {
   "cell_type": "code",
   "execution_count": 78,
   "metadata": {},
   "outputs": [
    {
     "name": "stdout",
     "output_type": "stream",
     "text": [
      "1234567798553475 x 23416754833454 = 28909571464003749895737952650\n"
     ]
    }
   ],
   "source": [
    "print(f'{num1_} x {num2_} = {cal.multiply(num1_, num2_)}')"
   ]
  },
  {
   "cell_type": "code",
   "execution_count": 79,
   "metadata": {},
   "outputs": [
    {
     "name": "stdout",
     "output_type": "stream",
     "text": [
      "1234567798553475 // 23416754833454 = 52\n"
     ]
    }
   ],
   "source": [
    "print(f'{num1_} // {num2_} = {cal.divide(num1_, num2_)}')"
   ]
  }
 ],
 "metadata": {
  "kernelspec": {
   "display_name": "Python 3",
   "language": "python",
   "name": "python3"
  },
  "language_info": {
   "codemirror_mode": {
    "name": "ipython",
    "version": 3
   },
   "file_extension": ".py",
   "mimetype": "text/x-python",
   "name": "python",
   "nbconvert_exporter": "python",
   "pygments_lexer": "ipython3",
   "version": "3.12.1"
  }
 },
 "nbformat": 4,
 "nbformat_minor": 2
}
