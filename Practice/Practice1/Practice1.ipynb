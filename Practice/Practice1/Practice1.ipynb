{
 "cells": [
  {
   "cell_type": "code",
   "execution_count": 9,
   "metadata": {},
   "outputs": [],
   "source": [
    "## Thư viện\n",
    "import math"
   ]
  },
  {
   "cell_type": "markdown",
   "metadata": {},
   "source": [
    "Bài 1"
   ]
  },
  {
   "cell_type": "code",
   "execution_count": 10,
   "metadata": {},
   "outputs": [
    {
     "name": "stdout",
     "output_type": "stream",
     "text": [
      "Chu vi : 6.283185307179586\n",
      "Dien tich : 28.274333882308138\n"
     ]
    }
   ],
   "source": [
    "r = float(input())\n",
    "print('Chu vi :' ,2*math.pi)\n",
    "print('Dien tich :',math.pi*r*r)\n"
   ]
  },
  {
   "cell_type": "markdown",
   "metadata": {},
   "source": [
    "Bài 2"
   ]
  },
  {
   "cell_type": "code",
   "execution_count": 11,
   "metadata": {},
   "outputs": [
    {
     "name": "stdout",
     "output_type": "stream",
     "text": [
      "Chu vi :  12.0\n",
      "Dien tich :  6.0\n"
     ]
    }
   ],
   "source": [
    "a, b, c = map(float, input().split())\n",
    "C = sum({a,b,c})\n",
    "P = C/2\n",
    "S = math.sqrt(P*(P-a)*(P-b)*(P-c))\n",
    "print(\"Chu vi : \", C)\n",
    "print(\"Dien tich : \", S)"
   ]
  },
  {
   "cell_type": "markdown",
   "metadata": {},
   "source": [
    "Bài 3\n"
   ]
  },
  {
   "cell_type": "code",
   "execution_count": 17,
   "metadata": {},
   "outputs": [
    {
     "name": "stdout",
     "output_type": "stream",
     "text": [
      "Loga(x) :  1.2618595071429148\n"
     ]
    }
   ],
   "source": [
    "a, x = map(float, input().split())\n",
    "\n",
    "while a <= 0 and x <= 0:\n",
    "    a, x = map(float, input().split())\n",
    "\n",
    "result = math.log(x)/math.log(a)\n",
    "\n",
    "print(\"Loga(x) : \",result)\n"
   ]
  },
  {
   "cell_type": "markdown",
   "metadata": {},
   "source": [
    "Bài 4"
   ]
  },
  {
   "cell_type": "code",
   "execution_count": 19,
   "metadata": {},
   "outputs": [
    {
     "name": "stdout",
     "output_type": "stream",
     "text": [
      "Khoang cach giua 2 diem :  2.8284271247461903\n",
      "He so goc :  1.0\n"
     ]
    }
   ],
   "source": [
    "x1,y1 = map(float,input().split())\n",
    "x2,y2 = map(float,input().split())\n",
    "dist = math.sqrt((x1-x2)**2 + (y1-y2)**2)\n",
    "a = (y2-y1)/(x2-x1)\n",
    "print(\"Khoang cach giua 2 diem : \", dist)\n",
    "print(\"He so goc : \", a)"
   ]
  },
  {
   "cell_type": "markdown",
   "metadata": {},
   "source": [
    "Bài 5"
   ]
  },
  {
   "cell_type": "code",
   "execution_count": 30,
   "metadata": {},
   "outputs": [
    {
     "name": "stdout",
     "output_type": "stream",
     "text": [
      "Ma ascii cua ki tu A: 65\n",
      "Ki tu ke tiep cua ky tu A: B\n"
     ]
    }
   ],
   "source": [
    "character = input()\n",
    "print(\"Ma ascii cua ki tu \" + character + \": \" + str(ord(character)))\n",
    "print(\"Ki tu ke tiep cua ky tu \"+ character + \": \" +chr(ord(character)+1))"
   ]
  },
  {
   "cell_type": "markdown",
   "metadata": {},
   "source": [
    "Bài 6\n"
   ]
  },
  {
   "cell_type": "code",
   "execution_count": 31,
   "metadata": {},
   "outputs": [
    {
     "name": "stdout",
     "output_type": "stream",
     "text": [
      "R :  1.2765957446808514\n"
     ]
    }
   ],
   "source": [
    "R1, R2, R3 = map(float, input().split())\n",
    "R = 1/(1/R1 + 1/R2 + 1/R3)\n",
    "print(\"R : \", R)"
   ]
  },
  {
   "cell_type": "markdown",
   "metadata": {},
   "source": [
    "Bài 7"
   ]
  },
  {
   "cell_type": "code",
   "execution_count": 34,
   "metadata": {},
   "outputs": [
    {
     "name": "stdout",
     "output_type": "stream",
     "text": [
      "4.00\n"
     ]
    }
   ],
   "source": [
    "Toan, Ly, Hoa = map(float , input().split())\n",
    "AVG = (Toan + Ly + Hoa)/3\n",
    "print(f'%.2f'%AVG)"
   ]
  },
  {
   "cell_type": "markdown",
   "metadata": {},
   "source": [
    "Bài 8"
   ]
  },
  {
   "cell_type": "code",
   "execution_count": 40,
   "metadata": {},
   "outputs": [
    {
     "name": "stdout",
     "output_type": "stream",
     "text": [
      "20/11/99\n"
     ]
    }
   ],
   "source": [
    "day = input(\"Day : \")\n",
    "month = input(\"Month : \")\n",
    "year = input(\"Year : \")\n",
    "# print(year[-2:])\n",
    "print(day+ \"/\"+month+\"/\"+year[-2:])"
   ]
  },
  {
   "cell_type": "markdown",
   "metadata": {},
   "source": [
    "Bài 9"
   ]
  },
  {
   "cell_type": "code",
   "execution_count": 42,
   "metadata": {},
   "outputs": [
    {
     "name": "stdout",
     "output_type": "stream",
     "text": [
      "Reverse :  405\n"
     ]
    }
   ],
   "source": [
    "def reverse_nums(num):\n",
    "    rev_num = 0\n",
    "    while num :\n",
    "        rev_num = rev_num*10 + num%10\n",
    "        num//=10\n",
    "    return rev_num\n",
    "n = int(input())\n",
    "print(\"Reverse : \", reverse_nums(n))"
   ]
  },
  {
   "cell_type": "markdown",
   "metadata": {},
   "source": [
    "Bài 10"
   ]
  },
  {
   "cell_type": "code",
   "execution_count": 43,
   "metadata": {},
   "outputs": [
    {
     "data": {
      "text/plain": [
       "3"
      ]
     },
     "execution_count": 43,
     "metadata": {},
     "output_type": "execute_result"
    }
   ],
   "source": [
    "max([int(x) for x in input().split()])"
   ]
  },
  {
   "cell_type": "markdown",
   "metadata": {},
   "source": [
    "Bài 11"
   ]
  },
  {
   "cell_type": "code",
   "execution_count": 49,
   "metadata": {},
   "outputs": [
    {
     "name": "stdout",
     "output_type": "stream",
     "text": [
      "Khong tao thanh tam giac\n"
     ]
    }
   ],
   "source": [
    "a , b, c = map(float, input().split())\n",
    "\n",
    "if a + b > c and a + c > b and b + c > a:\n",
    "    ChuVi = a+b+c\n",
    "    P = ChuVi/2\n",
    "    S = math.sqrt(P*(P-a)*(P-b)*(P-c))\n",
    "    print(\"Chu vi : \" , ChuVi)\n",
    "    print(\"Dien tich : \", S)\n",
    "else :\n",
    "    print(\"Khong tao thanh tam giac\")"
   ]
  },
  {
   "cell_type": "markdown",
   "metadata": {},
   "source": [
    "Bài 12"
   ]
  },
  {
   "cell_type": "code",
   "execution_count": 47,
   "metadata": {},
   "outputs": [
    {
     "name": "stdout",
     "output_type": "stream",
     "text": [
      "1.3333333333333333\n"
     ]
    }
   ],
   "source": [
    "a , b = map(float,input().split())\n",
    "print(b/a)"
   ]
  },
  {
   "cell_type": "markdown",
   "metadata": {},
   "source": [
    "Bài 13"
   ]
  },
  {
   "cell_type": "code",
   "execution_count": 50,
   "metadata": {},
   "outputs": [
    {
     "name": "stdout",
     "output_type": "stream",
     "text": [
      "7\n"
     ]
    }
   ],
   "source": [
    "a, b = map(int,input().split())\n",
    "ch = input()\n",
    "if ch == '+':\n",
    "    print(a+b)\n",
    "elif ch == '-' :\n",
    "    print(a-b)\n",
    "elif ch == '*' :\n",
    "    print(a*b)\n",
    "else :\n",
    "    print(a/b)"
   ]
  },
  {
   "cell_type": "markdown",
   "metadata": {},
   "source": [
    "Bài 14"
   ]
  },
  {
   "cell_type": "code",
   "execution_count": 51,
   "metadata": {},
   "outputs": [
    {
     "name": "stdout",
     "output_type": "stream",
     "text": [
      "31\n"
     ]
    }
   ],
   "source": [
    "month, year = map(int,input().split())\n",
    "\n",
    "day31 = [1,3,5,7,8,10,12]\n",
    "\n",
    "if month in day31:\n",
    "    print(31)\n",
    "elif month == 2 :\n",
    "    if year % 400 == 0 or (year % 4 == 0 and year % 100 != 0) :\n",
    "        print(29)\n",
    "    else :\n",
    "        print(28)\n",
    "else :\n",
    "    print(30)"
   ]
  },
  {
   "cell_type": "markdown",
   "metadata": {},
   "source": [
    "Bài 15"
   ]
  },
  {
   "cell_type": "code",
   "execution_count": 1,
   "metadata": {},
   "outputs": [
    {
     "name": "stdout",
     "output_type": "stream",
     "text": [
      "Tổng số tiền nhận được :  112589.9906842624\n"
     ]
    }
   ],
   "source": [
    "def method1(von, thogian ):\n",
    "    laisuat = 0.024\n",
    "    total = von*((1+laisuat)**thogian)\n",
    "    return total\n",
    "\n",
    "A = float(input(\"Nhập số tiền gốc\"))\n",
    "t = int(input(\"Nhập thời gian : \"))\n",
    "print(\"Tổng số tiền nhận được : \", method1(A,t))\n"
   ]
  }
 ],
 "metadata": {
  "kernelspec": {
   "display_name": "Python 3",
   "language": "python",
   "name": "python3"
  },
  "language_info": {
   "codemirror_mode": {
    "name": "ipython",
    "version": 3
   },
   "file_extension": ".py",
   "mimetype": "text/x-python",
   "name": "python",
   "nbconvert_exporter": "python",
   "pygments_lexer": "ipython3",
   "version": "3.12.2"
  }
 },
 "nbformat": 4,
 "nbformat_minor": 2
}
