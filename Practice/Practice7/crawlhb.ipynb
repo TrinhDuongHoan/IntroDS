{
 "cells": [
  {
   "cell_type": "code",
   "execution_count": 2,
   "metadata": {},
   "outputs": [],
   "source": [
    "from selenium import webdriver\n",
    "from selenium.webdriver.common.by import By\n",
    "from selenium.webdriver.support.ui import WebDriverWait\n",
    "from selenium.webdriver.support import expected_conditions as EC\n",
    "from bs4 import BeautifulSoup\n",
    "import time"
   ]
  },
  {
   "cell_type": "code",
   "execution_count": 3,
   "metadata": {},
   "outputs": [],
   "source": [
    "url = \"https://pdt.iuh.edu.vn/tra-cuu-hoc-bong-du-kien/?fbclid=IwAR2UDquwEV32lbeVE0btuQYriBAOlBUczH3np9RnjJkz8W0REAndypORQdU\""
   ]
  },
  {
   "cell_type": "code",
   "execution_count": 4,
   "metadata": {},
   "outputs": [],
   "source": [
    "driver = webdriver.Chrome()\n",
    "driver.get(url)\n",
    "time.sleep(3)"
   ]
  },
  {
   "cell_type": "code",
   "execution_count": 5,
   "metadata": {},
   "outputs": [
    {
     "ename": "AttributeError",
     "evalue": "'WebDriver' object has no attribute 'text'",
     "output_type": "error",
     "traceback": [
      "\u001b[1;31m---------------------------------------------------------------------------\u001b[0m",
      "\u001b[1;31mAttributeError\u001b[0m                            Traceback (most recent call last)",
      "Cell \u001b[1;32mIn[5], line 1\u001b[0m\n\u001b[1;32m----> 1\u001b[0m \u001b[43mdriver\u001b[49m\u001b[38;5;241;43m.\u001b[39;49m\u001b[43mtext\u001b[49m\n",
      "\u001b[1;31mAttributeError\u001b[0m: 'WebDriver' object has no attribute 'text'"
     ]
    }
   ],
   "source": [
    "driver.find_elements()"
   ]
  },
  {
   "cell_type": "code",
   "execution_count": 3,
   "metadata": {},
   "outputs": [
    {
     "data": {
      "text/plain": [
       "array([[103.71978268, 215.48483565, 223.84294652, 252.81109596,\n",
       "        207.7418387 , 210.98819032, 203.88827391, 263.51101467,\n",
       "        247.09729797, 158.51371093],\n",
       "       [113.9941479 , 227.45879059, 289.58349293, 143.87437594,\n",
       "        254.58108581, 200.10380233, 206.76113376, 208.19366696,\n",
       "        143.99684395, 224.62469441],\n",
       "       [183.81271078, 228.8879209 , 226.54089679, 153.33491783,\n",
       "        140.02507793, 232.45829204, 207.62103863, 181.51652676,\n",
       "        232.33400354, 278.49597807],\n",
       "       [114.42879513, 176.6926334 , 190.96983753, 215.50057233,\n",
       "         83.97617684, 254.49907639, 214.37856299, 209.71820206,\n",
       "        235.37302305, 203.30227234],\n",
       "       [187.9304036 , 206.34991455, 155.57567888, 213.15377732,\n",
       "        230.79455699, 259.25887786, 253.90034817, 227.36459013,\n",
       "        210.06505682,  77.15454404],\n",
       "       [160.25437351, 226.27152555, 128.77405449, 227.19831539,\n",
       "        131.65479536, 246.17176628, 184.17322827, 262.573983  ,\n",
       "        253.52715362, 249.96596935],\n",
       "       [194.86130816, 192.87089915, 213.64318311, 225.5623368 ,\n",
       "        158.13556996, 268.28121658, 178.53771078, 173.28808356,\n",
       "        294.33460049, 143.60447211],\n",
       "       [198.84632076, 162.51856336, 224.9063216 , 227.48617513,\n",
       "        238.38832191,  80.38366509, 145.37352784, 228.28717021,\n",
       "        191.57565228, 124.01106535],\n",
       "       [236.44608984, 238.18214024, 284.12859611, 148.49641625,\n",
       "        209.80784517, 254.24651245, 276.02457012, 175.46032296,\n",
       "        120.26461706, 168.39738053],\n",
       "       [218.22904941, 213.49129304, 313.2255757 , 202.65601397,\n",
       "        257.78272553, 143.19724558, 145.25192883, 157.70495762,\n",
       "        262.57324491, 137.43925558]])"
      ]
     },
     "execution_count": 3,
     "metadata": {},
     "output_type": "execute_result"
    }
   ],
   "source": [
    "import scipy.stats as st\n",
    "X = st.norm(200, 49)\n",
    "X.rvs(size=(10, 10))\n"
   ]
  },
  {
   "cell_type": "code",
   "execution_count": null,
   "metadata": {},
   "outputs": [],
   "source": []
  }
 ],
 "metadata": {
  "kernelspec": {
   "display_name": "Python 3",
   "language": "python",
   "name": "python3"
  },
  "language_info": {
   "codemirror_mode": {
    "name": "ipython",
    "version": 3
   },
   "file_extension": ".py",
   "mimetype": "text/x-python",
   "name": "python",
   "nbconvert_exporter": "python",
   "pygments_lexer": "ipython3",
   "version": "3.12.2"
  }
 },
 "nbformat": 4,
 "nbformat_minor": 2
}
