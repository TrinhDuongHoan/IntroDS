{
 "cells": [
  {
   "cell_type": "markdown",
   "metadata": {},
   "source": [
    "**Library**"
   ]
  },
  {
   "cell_type": "code",
   "execution_count": 3,
   "metadata": {},
   "outputs": [],
   "source": [
    "import pandas as pd\n",
    "import matplotlib.pyplot as plt\n",
    "import numpy as np"
   ]
  },
  {
   "cell_type": "code",
   "execution_count": 4,
   "metadata": {},
   "outputs": [],
   "source": [
    "file_data = 'US_Baby_Names.csv'"
   ]
  },
  {
   "cell_type": "markdown",
   "metadata": {},
   "source": [
    "### **1- US Baby Name**"
   ]
  },
  {
   "cell_type": "markdown",
   "metadata": {},
   "source": [
    "**1,1. Read data**"
   ]
  },
  {
   "cell_type": "code",
   "execution_count": 5,
   "metadata": {},
   "outputs": [
    {
     "data": {
      "text/html": [
       "<div>\n",
       "<style scoped>\n",
       "    .dataframe tbody tr th:only-of-type {\n",
       "        vertical-align: middle;\n",
       "    }\n",
       "\n",
       "    .dataframe tbody tr th {\n",
       "        vertical-align: top;\n",
       "    }\n",
       "\n",
       "    .dataframe thead th {\n",
       "        text-align: right;\n",
       "    }\n",
       "</style>\n",
       "<table border=\"1\" class=\"dataframe\">\n",
       "  <thead>\n",
       "    <tr style=\"text-align: right;\">\n",
       "      <th></th>\n",
       "      <th>Unnamed: 0</th>\n",
       "      <th>Id</th>\n",
       "      <th>Name</th>\n",
       "      <th>Year</th>\n",
       "      <th>Gender</th>\n",
       "      <th>State</th>\n",
       "      <th>Count</th>\n",
       "    </tr>\n",
       "  </thead>\n",
       "  <tbody>\n",
       "    <tr>\n",
       "      <th>0</th>\n",
       "      <td>11349</td>\n",
       "      <td>11350</td>\n",
       "      <td>Emma</td>\n",
       "      <td>2004</td>\n",
       "      <td>F</td>\n",
       "      <td>AK</td>\n",
       "      <td>62</td>\n",
       "    </tr>\n",
       "    <tr>\n",
       "      <th>1</th>\n",
       "      <td>11350</td>\n",
       "      <td>11351</td>\n",
       "      <td>Madison</td>\n",
       "      <td>2004</td>\n",
       "      <td>F</td>\n",
       "      <td>AK</td>\n",
       "      <td>48</td>\n",
       "    </tr>\n",
       "    <tr>\n",
       "      <th>2</th>\n",
       "      <td>11351</td>\n",
       "      <td>11352</td>\n",
       "      <td>Hannah</td>\n",
       "      <td>2004</td>\n",
       "      <td>F</td>\n",
       "      <td>AK</td>\n",
       "      <td>46</td>\n",
       "    </tr>\n",
       "    <tr>\n",
       "      <th>3</th>\n",
       "      <td>11352</td>\n",
       "      <td>11353</td>\n",
       "      <td>Grace</td>\n",
       "      <td>2004</td>\n",
       "      <td>F</td>\n",
       "      <td>AK</td>\n",
       "      <td>44</td>\n",
       "    </tr>\n",
       "    <tr>\n",
       "      <th>4</th>\n",
       "      <td>11353</td>\n",
       "      <td>11354</td>\n",
       "      <td>Emily</td>\n",
       "      <td>2004</td>\n",
       "      <td>F</td>\n",
       "      <td>AK</td>\n",
       "      <td>41</td>\n",
       "    </tr>\n",
       "    <tr>\n",
       "      <th>...</th>\n",
       "      <td>...</td>\n",
       "      <td>...</td>\n",
       "      <td>...</td>\n",
       "      <td>...</td>\n",
       "      <td>...</td>\n",
       "      <td>...</td>\n",
       "      <td>...</td>\n",
       "    </tr>\n",
       "    <tr>\n",
       "      <th>1016390</th>\n",
       "      <td>5647421</td>\n",
       "      <td>5647422</td>\n",
       "      <td>Seth</td>\n",
       "      <td>2014</td>\n",
       "      <td>M</td>\n",
       "      <td>WY</td>\n",
       "      <td>5</td>\n",
       "    </tr>\n",
       "    <tr>\n",
       "      <th>1016391</th>\n",
       "      <td>5647422</td>\n",
       "      <td>5647423</td>\n",
       "      <td>Spencer</td>\n",
       "      <td>2014</td>\n",
       "      <td>M</td>\n",
       "      <td>WY</td>\n",
       "      <td>5</td>\n",
       "    </tr>\n",
       "    <tr>\n",
       "      <th>1016392</th>\n",
       "      <td>5647423</td>\n",
       "      <td>5647424</td>\n",
       "      <td>Tyce</td>\n",
       "      <td>2014</td>\n",
       "      <td>M</td>\n",
       "      <td>WY</td>\n",
       "      <td>5</td>\n",
       "    </tr>\n",
       "    <tr>\n",
       "      <th>1016393</th>\n",
       "      <td>5647424</td>\n",
       "      <td>5647425</td>\n",
       "      <td>Victor</td>\n",
       "      <td>2014</td>\n",
       "      <td>M</td>\n",
       "      <td>WY</td>\n",
       "      <td>5</td>\n",
       "    </tr>\n",
       "    <tr>\n",
       "      <th>1016394</th>\n",
       "      <td>5647425</td>\n",
       "      <td>5647426</td>\n",
       "      <td>Waylon</td>\n",
       "      <td>2014</td>\n",
       "      <td>M</td>\n",
       "      <td>WY</td>\n",
       "      <td>5</td>\n",
       "    </tr>\n",
       "  </tbody>\n",
       "</table>\n",
       "<p>1016395 rows × 7 columns</p>\n",
       "</div>"
      ],
      "text/plain": [
       "         Unnamed: 0       Id     Name  Year Gender State  Count\n",
       "0             11349    11350     Emma  2004      F    AK     62\n",
       "1             11350    11351  Madison  2004      F    AK     48\n",
       "2             11351    11352   Hannah  2004      F    AK     46\n",
       "3             11352    11353    Grace  2004      F    AK     44\n",
       "4             11353    11354    Emily  2004      F    AK     41\n",
       "...             ...      ...      ...   ...    ...   ...    ...\n",
       "1016390     5647421  5647422     Seth  2014      M    WY      5\n",
       "1016391     5647422  5647423  Spencer  2014      M    WY      5\n",
       "1016392     5647423  5647424     Tyce  2014      M    WY      5\n",
       "1016393     5647424  5647425   Victor  2014      M    WY      5\n",
       "1016394     5647425  5647426   Waylon  2014      M    WY      5\n",
       "\n",
       "[1016395 rows x 7 columns]"
      ]
     },
     "execution_count": 5,
     "metadata": {},
     "output_type": "execute_result"
    }
   ],
   "source": [
    "data = pd.read_csv(file_data)\n",
    "data"
   ]
  },
  {
   "cell_type": "markdown",
   "metadata": {},
   "source": [
    "**1,2. Display the first 10 lines of data**"
   ]
  },
  {
   "cell_type": "code",
   "execution_count": 6,
   "metadata": {},
   "outputs": [
    {
     "data": {
      "text/html": [
       "<div>\n",
       "<style scoped>\n",
       "    .dataframe tbody tr th:only-of-type {\n",
       "        vertical-align: middle;\n",
       "    }\n",
       "\n",
       "    .dataframe tbody tr th {\n",
       "        vertical-align: top;\n",
       "    }\n",
       "\n",
       "    .dataframe thead th {\n",
       "        text-align: right;\n",
       "    }\n",
       "</style>\n",
       "<table border=\"1\" class=\"dataframe\">\n",
       "  <thead>\n",
       "    <tr style=\"text-align: right;\">\n",
       "      <th></th>\n",
       "      <th>Unnamed: 0</th>\n",
       "      <th>Id</th>\n",
       "      <th>Name</th>\n",
       "      <th>Year</th>\n",
       "      <th>Gender</th>\n",
       "      <th>State</th>\n",
       "      <th>Count</th>\n",
       "    </tr>\n",
       "  </thead>\n",
       "  <tbody>\n",
       "    <tr>\n",
       "      <th>0</th>\n",
       "      <td>11349</td>\n",
       "      <td>11350</td>\n",
       "      <td>Emma</td>\n",
       "      <td>2004</td>\n",
       "      <td>F</td>\n",
       "      <td>AK</td>\n",
       "      <td>62</td>\n",
       "    </tr>\n",
       "    <tr>\n",
       "      <th>1</th>\n",
       "      <td>11350</td>\n",
       "      <td>11351</td>\n",
       "      <td>Madison</td>\n",
       "      <td>2004</td>\n",
       "      <td>F</td>\n",
       "      <td>AK</td>\n",
       "      <td>48</td>\n",
       "    </tr>\n",
       "    <tr>\n",
       "      <th>2</th>\n",
       "      <td>11351</td>\n",
       "      <td>11352</td>\n",
       "      <td>Hannah</td>\n",
       "      <td>2004</td>\n",
       "      <td>F</td>\n",
       "      <td>AK</td>\n",
       "      <td>46</td>\n",
       "    </tr>\n",
       "    <tr>\n",
       "      <th>3</th>\n",
       "      <td>11352</td>\n",
       "      <td>11353</td>\n",
       "      <td>Grace</td>\n",
       "      <td>2004</td>\n",
       "      <td>F</td>\n",
       "      <td>AK</td>\n",
       "      <td>44</td>\n",
       "    </tr>\n",
       "    <tr>\n",
       "      <th>4</th>\n",
       "      <td>11353</td>\n",
       "      <td>11354</td>\n",
       "      <td>Emily</td>\n",
       "      <td>2004</td>\n",
       "      <td>F</td>\n",
       "      <td>AK</td>\n",
       "      <td>41</td>\n",
       "    </tr>\n",
       "    <tr>\n",
       "      <th>5</th>\n",
       "      <td>11354</td>\n",
       "      <td>11355</td>\n",
       "      <td>Abigail</td>\n",
       "      <td>2004</td>\n",
       "      <td>F</td>\n",
       "      <td>AK</td>\n",
       "      <td>37</td>\n",
       "    </tr>\n",
       "    <tr>\n",
       "      <th>6</th>\n",
       "      <td>11355</td>\n",
       "      <td>11356</td>\n",
       "      <td>Olivia</td>\n",
       "      <td>2004</td>\n",
       "      <td>F</td>\n",
       "      <td>AK</td>\n",
       "      <td>33</td>\n",
       "    </tr>\n",
       "    <tr>\n",
       "      <th>7</th>\n",
       "      <td>11356</td>\n",
       "      <td>11357</td>\n",
       "      <td>Isabella</td>\n",
       "      <td>2004</td>\n",
       "      <td>F</td>\n",
       "      <td>AK</td>\n",
       "      <td>30</td>\n",
       "    </tr>\n",
       "    <tr>\n",
       "      <th>8</th>\n",
       "      <td>11357</td>\n",
       "      <td>11358</td>\n",
       "      <td>Alyssa</td>\n",
       "      <td>2004</td>\n",
       "      <td>F</td>\n",
       "      <td>AK</td>\n",
       "      <td>29</td>\n",
       "    </tr>\n",
       "    <tr>\n",
       "      <th>9</th>\n",
       "      <td>11358</td>\n",
       "      <td>11359</td>\n",
       "      <td>Sophia</td>\n",
       "      <td>2004</td>\n",
       "      <td>F</td>\n",
       "      <td>AK</td>\n",
       "      <td>28</td>\n",
       "    </tr>\n",
       "  </tbody>\n",
       "</table>\n",
       "</div>"
      ],
      "text/plain": [
       "   Unnamed: 0     Id      Name  Year Gender State  Count\n",
       "0       11349  11350      Emma  2004      F    AK     62\n",
       "1       11350  11351   Madison  2004      F    AK     48\n",
       "2       11351  11352    Hannah  2004      F    AK     46\n",
       "3       11352  11353     Grace  2004      F    AK     44\n",
       "4       11353  11354     Emily  2004      F    AK     41\n",
       "5       11354  11355   Abigail  2004      F    AK     37\n",
       "6       11355  11356    Olivia  2004      F    AK     33\n",
       "7       11356  11357  Isabella  2004      F    AK     30\n",
       "8       11357  11358    Alyssa  2004      F    AK     29\n",
       "9       11358  11359    Sophia  2004      F    AK     28"
      ]
     },
     "execution_count": 6,
     "metadata": {},
     "output_type": "execute_result"
    }
   ],
   "source": [
    "data.head(10)"
   ]
  },
  {
   "cell_type": "markdown",
   "metadata": {},
   "source": [
    "**1,3. Show the data size**"
   ]
  },
  {
   "cell_type": "code",
   "execution_count": 7,
   "metadata": {},
   "outputs": [
    {
     "data": {
      "text/plain": [
       "(1016395, 7)"
      ]
     },
     "execution_count": 7,
     "metadata": {},
     "output_type": "execute_result"
    }
   ],
   "source": [
    "data.shape"
   ]
  },
  {
   "cell_type": "markdown",
   "metadata": {},
   "source": [
    "**1,4. Delete 2 columns 'Unnamed: 0' and 'Id'**"
   ]
  },
  {
   "cell_type": "code",
   "execution_count": 8,
   "metadata": {},
   "outputs": [
    {
     "data": {
      "text/html": [
       "<div>\n",
       "<style scoped>\n",
       "    .dataframe tbody tr th:only-of-type {\n",
       "        vertical-align: middle;\n",
       "    }\n",
       "\n",
       "    .dataframe tbody tr th {\n",
       "        vertical-align: top;\n",
       "    }\n",
       "\n",
       "    .dataframe thead th {\n",
       "        text-align: right;\n",
       "    }\n",
       "</style>\n",
       "<table border=\"1\" class=\"dataframe\">\n",
       "  <thead>\n",
       "    <tr style=\"text-align: right;\">\n",
       "      <th></th>\n",
       "      <th>Name</th>\n",
       "      <th>Year</th>\n",
       "      <th>Gender</th>\n",
       "      <th>State</th>\n",
       "      <th>Count</th>\n",
       "    </tr>\n",
       "  </thead>\n",
       "  <tbody>\n",
       "    <tr>\n",
       "      <th>0</th>\n",
       "      <td>Emma</td>\n",
       "      <td>2004</td>\n",
       "      <td>F</td>\n",
       "      <td>AK</td>\n",
       "      <td>62</td>\n",
       "    </tr>\n",
       "    <tr>\n",
       "      <th>1</th>\n",
       "      <td>Madison</td>\n",
       "      <td>2004</td>\n",
       "      <td>F</td>\n",
       "      <td>AK</td>\n",
       "      <td>48</td>\n",
       "    </tr>\n",
       "    <tr>\n",
       "      <th>2</th>\n",
       "      <td>Hannah</td>\n",
       "      <td>2004</td>\n",
       "      <td>F</td>\n",
       "      <td>AK</td>\n",
       "      <td>46</td>\n",
       "    </tr>\n",
       "    <tr>\n",
       "      <th>3</th>\n",
       "      <td>Grace</td>\n",
       "      <td>2004</td>\n",
       "      <td>F</td>\n",
       "      <td>AK</td>\n",
       "      <td>44</td>\n",
       "    </tr>\n",
       "    <tr>\n",
       "      <th>4</th>\n",
       "      <td>Emily</td>\n",
       "      <td>2004</td>\n",
       "      <td>F</td>\n",
       "      <td>AK</td>\n",
       "      <td>41</td>\n",
       "    </tr>\n",
       "    <tr>\n",
       "      <th>...</th>\n",
       "      <td>...</td>\n",
       "      <td>...</td>\n",
       "      <td>...</td>\n",
       "      <td>...</td>\n",
       "      <td>...</td>\n",
       "    </tr>\n",
       "    <tr>\n",
       "      <th>1016390</th>\n",
       "      <td>Seth</td>\n",
       "      <td>2014</td>\n",
       "      <td>M</td>\n",
       "      <td>WY</td>\n",
       "      <td>5</td>\n",
       "    </tr>\n",
       "    <tr>\n",
       "      <th>1016391</th>\n",
       "      <td>Spencer</td>\n",
       "      <td>2014</td>\n",
       "      <td>M</td>\n",
       "      <td>WY</td>\n",
       "      <td>5</td>\n",
       "    </tr>\n",
       "    <tr>\n",
       "      <th>1016392</th>\n",
       "      <td>Tyce</td>\n",
       "      <td>2014</td>\n",
       "      <td>M</td>\n",
       "      <td>WY</td>\n",
       "      <td>5</td>\n",
       "    </tr>\n",
       "    <tr>\n",
       "      <th>1016393</th>\n",
       "      <td>Victor</td>\n",
       "      <td>2014</td>\n",
       "      <td>M</td>\n",
       "      <td>WY</td>\n",
       "      <td>5</td>\n",
       "    </tr>\n",
       "    <tr>\n",
       "      <th>1016394</th>\n",
       "      <td>Waylon</td>\n",
       "      <td>2014</td>\n",
       "      <td>M</td>\n",
       "      <td>WY</td>\n",
       "      <td>5</td>\n",
       "    </tr>\n",
       "  </tbody>\n",
       "</table>\n",
       "<p>1016395 rows × 5 columns</p>\n",
       "</div>"
      ],
      "text/plain": [
       "            Name  Year Gender State  Count\n",
       "0           Emma  2004      F    AK     62\n",
       "1        Madison  2004      F    AK     48\n",
       "2         Hannah  2004      F    AK     46\n",
       "3          Grace  2004      F    AK     44\n",
       "4          Emily  2004      F    AK     41\n",
       "...          ...   ...    ...   ...    ...\n",
       "1016390     Seth  2014      M    WY      5\n",
       "1016391  Spencer  2014      M    WY      5\n",
       "1016392     Tyce  2014      M    WY      5\n",
       "1016393   Victor  2014      M    WY      5\n",
       "1016394   Waylon  2014      M    WY      5\n",
       "\n",
       "[1016395 rows x 5 columns]"
      ]
     },
     "execution_count": 8,
     "metadata": {},
     "output_type": "execute_result"
    }
   ],
   "source": [
    "data = data.drop(columns=['Unnamed: 0', 'Id'])\n",
    "data"
   ]
  },
  {
   "cell_type": "markdown",
   "metadata": {},
   "source": [
    "**1,5. Tell me the number of boys and girls?**"
   ]
  },
  {
   "cell_type": "code",
   "execution_count": 9,
   "metadata": {},
   "outputs": [
    {
     "data": {
      "text/plain": [
       "Gender\n",
       "F    558846\n",
       "M    457549\n",
       "Name: count, dtype: int64"
      ]
     },
     "execution_count": 9,
     "metadata": {},
     "output_type": "execute_result"
    }
   ],
   "source": [
    "data['Gender'].value_counts()"
   ]
  },
  {
   "cell_type": "markdown",
   "metadata": {},
   "source": [
    "**1,6. How many different names are there in the dataset?**"
   ]
  },
  {
   "cell_type": "code",
   "execution_count": 10,
   "metadata": {},
   "outputs": [
    {
     "data": {
      "text/plain": [
       "17632"
      ]
     },
     "execution_count": 10,
     "metadata": {},
     "output_type": "execute_result"
    }
   ],
   "source": [
    "data['Name'].nunique()"
   ]
  },
  {
   "cell_type": "markdown",
   "metadata": {},
   "source": [
    "**1,7. Which name appears the least?**"
   ]
  },
  {
   "cell_type": "code",
   "execution_count": 11,
   "metadata": {},
   "outputs": [
    {
     "name": "stdout",
     "output_type": "stream",
     "text": [
      "Các tên xuất hiện ít nhất :  ['Coalton', 'Mohamadou', 'Dominga', 'Zailee', 'Zailynn', 'Levar', 'Kassim', 'Danyale', 'Dalena', 'Nhyla', 'Dajanique', 'Daissy', 'Paisyn', 'Baylei', 'Brenan', 'Abri', 'Criselda', 'Ziare', 'Aidynn', 'Cierrah', 'Shamell', 'Nahshon', 'Haely', 'Mckenzye', 'Lemar', 'Esmie', 'Yoscar', 'Antrell', 'Tyke', 'Jeziel', 'Jonhatan', 'Haliey', 'Jerri', 'Wright', 'Taequan', 'Volvi', 'Jatavia', 'Ephram', 'Jayanthony', 'Kessler', 'Copper', 'Zaniel', 'Yuriel', 'Yavuz', 'Jermell', 'Yafet', 'Siler', 'Rafay', 'Oisin', 'Roby', 'Yiannis', 'Keeland', 'Jrake', 'Ayeden', 'Cana', 'Krrish', 'Kazuki', 'Dariella', 'Asheley', 'Keslyn', 'Kyiah', 'Alaiza', 'Mairim', 'Trysta', 'Trynity', 'Maleigh', 'Toluwalase', 'Prestin', 'Hammad', 'Reginal', 'Dianely', 'Pacey', 'Ayianna', 'Carola', 'Kortlynn', 'Lorianna', 'Carlye', 'Naviah', 'Neysa', 'Tensley', 'Tarell', 'Tanyon', 'Adelai', 'Kayelee', 'Naylee', 'Katelyne', 'Kamberlyn', 'Infinity', 'Irasema', 'Frederik', 'Itzamara', 'Endi', 'Keivon', 'Jaedynn', 'Constantinos', 'Joelyn', 'Ryane', 'Kasidy', 'Arbi', 'Shamyah', 'Lyann', 'Heavenleigh', 'Marianela', 'Anaily', 'Janthony', 'Terique', 'Aysel', 'Eniola', 'Argentina', 'Regis', 'Jayvier', 'Anique', 'Tobechukwu', 'Alie', 'Selenia', 'Rocsi', 'Ambrosia', 'Jannessa', 'Daxten', 'Jonnie', 'Dickson', 'Kaydi', 'Kenlei', 'Kenzee', 'Krissa', 'Kynlei', 'Bayler', 'Jamea', 'Lirio', 'Zakyra', 'Saifullah', 'Talina', 'Rhylan', 'Zana', 'Banner', 'Trinitie', 'Shadrach', 'Polo', 'Pecos', 'Jovonni', 'Annett', 'Jakaylah', 'Dodger', 'Jaidin', 'Rielyn', 'Saralyn', 'Nissen', 'Sheza', 'Storie', 'Matalyn', 'Vivika', 'Yomtov', 'Zamyria', 'Analiya', 'Jophy', 'Jasher', 'Evanny', 'Lexxi', 'Zoria', 'Aerianna', 'Yisell', 'Amitai', 'Makailyn', 'Maddi', 'Maor', 'Gabbie', 'Haelyn', 'Jevaughn', 'Hally', 'Daoud', 'Meila', 'Thamara', 'Ervey', 'Labella', 'Zacariah', 'Kamsiyochukwu', 'Lavaeh', 'Brek', 'Zyire', 'Jamiel', 'Audi', 'Jb', 'Keisean', 'Javery', 'Tayquan', 'Steffen', 'Daesha', 'Draiden', 'Darshan', 'Chantz', 'Yaacov', 'Castin', 'Neelah', 'Paiten', 'Shariff', 'Rece', 'Savier', 'Breya', 'Jahziah', 'Sairy', 'Gorgeous', 'Salif', 'Doc', 'Decklan', 'Magen', 'Jevonte', 'Daxx', 'Laisa', 'Corbett', 'Champion', 'Preslea', 'Idrissa', 'Ayson', 'Azazel', 'Hani', 'Eydan', 'Doran', 'Deston', 'Arien', 'Sharla', 'Alysah', 'Zyren', 'Zayvien', 'Yeiden', 'Raidyn', 'Pate', 'Ebubechukwu', 'Argelio', 'Krishawn', 'Ameli', 'Brealynn', 'Volf', 'Jewelia', 'Jewelissa', 'Lesieli', 'Tanea', 'Jewelyssa', 'Shuaib', 'Sandor', 'Jozlin', 'Jamela', 'Anikah', 'Maizee', 'Ludwika', 'Maryela', 'Taiya', 'Madailein', 'Yadirah', 'Vanness', 'Rohaan', 'Yveth', 'Rakin', 'Rafan', 'Amariona', 'Oshane', 'Jerusha', 'Min', 'Emelee', 'Hortencia', 'Hamdan', 'Getzel', 'Fatin', 'Keylie', 'Enes', 'Swayzie', 'Eashan', 'Nakya', 'Annalissa', 'Tashawna', 'Lorie', 'Davier', 'Lorissa', 'Chuna', 'Belia', 'Yossef', 'Taisley', 'Kelcy', 'Ijeoma', 'Irianna', 'Livvy', 'Navie', 'Jaydie', 'Jazzalyn', 'Mckoy', 'Aracelie', 'Aniaya', 'Mouhamad', 'Mohan', 'Quinlee', 'Iraima', 'Ziv', 'Nayvie', 'Jamilyn', 'Britzy', 'Caeley', 'Messi', 'Mirely', 'Jonibek', 'Meriah', 'Gabryela', 'Jeyren', 'Jezlyn', 'Mourad', 'Kayda', 'Jalal', 'Shianna', 'Madelis', 'Makaylie', 'Hossain', 'Elmin', 'Eliav', 'Azimjon', 'Porsha', 'Lion', 'Brinklee', 'Kerstyn', 'Roniel', 'Michoel', 'Lean', 'Javel', 'Jahkai', 'Arikka', 'Kamrie', 'Mckinzy', 'Cassiel', 'Brooklee', 'Maloree', 'Marvella', 'Maygan', 'Raeli', 'Anet', 'Tameem', 'Zandra', 'Sabrie', 'Alyze', 'Malosi', 'Seirra', 'Breaunna', 'Sereena', 'Ahniyah', 'Kaizlee', 'Vashti', 'Xandra', 'Blakleigh', 'Starlee', 'Branae', 'Keisi', 'Kenzli', 'Jassmine', 'Amberlie', 'Taleyah', 'Tarryn', 'Alyzabeth', 'Yohance', 'Braniya', 'Tya', 'Carlynn', 'Jahmeer', 'Loreley', 'Madalin', 'Axzel', 'Seydou', 'Makynzi', 'Raley', 'Alezander', 'Shaniece', 'Trang', 'Walt', 'Tram', 'Ramell', 'Sulayman', 'Jamair', 'Kayelynn', 'Kandi', 'Camillia', 'Deanne', 'Trenden', 'Delayne', 'Traylon', 'Cadynce', 'Brittni', 'Carolin', 'Gatlyn', 'Caylyn', 'Avagrace', 'Amyriah', 'Aniza', 'Azula', 'Nnamdi', 'Cylee', 'Dabria', 'Nezar', 'Nasire', 'Delshawn', 'Ambry', 'Murat', 'Meron', 'Jennelle', 'Jeslin', 'Kirubel', 'Taslin', 'Damone', 'Jackey', 'Dennys', 'Marium', 'Marena', 'Mckinnley', 'Peightyn', 'Avon', 'Alif', 'Abdo', 'Sindi', 'Kwesi', 'Zanyia', 'Zaryiah', 'Bryna', 'Maesyn', 'Breelynn', 'Marci', 'Carah', 'Haadi', 'Adianna', 'Gregg', 'Gal', 'Adore', 'Graceson', 'Kynlea', 'Laiya', 'Maryse', 'Lorik', 'Odeth', 'Ambrie', 'Jamiere', 'Bradey', 'Parys', 'Kallyn', 'Jaymir', 'Albi', 'Yeraldine', 'Martino', 'Adanelly', 'Jeury', 'Rayon', 'Kenechukwu', 'Debanhy', 'Caydan', 'Corday', 'Zohaib', 'Savon', 'Yordy', 'Kassy', 'Jonna', 'Tionne', 'Joli', 'Siam', 'Annelyse', 'Zaydrian', 'Mandie', 'Pahola', 'Kraig', 'Mckennah', 'Roselia', 'Aliyanah', 'Analena', 'Betsey', 'Geraldy', 'Luxe', 'Lalani', 'Mao', 'Talar', 'Zeena', 'Adaleen', 'Anara', 'Adena', 'Analeigha', 'Navina', 'Oviya', 'Leea', 'Manisha', 'Jiayi', 'Baran', 'Audreyana', 'Amiliana', 'Alania', 'Adiana', 'Adyline', 'Arlenne', 'Daksha', 'Danniela', 'Kohei', 'Edilson', 'Gahel', 'Gared', 'Hanzel', 'Hovhannes', 'Jafeth', 'Jamani', 'Emron', 'Nihira', 'Mithra', 'Mehr', 'Laksmi', 'Kritika', 'Kristelle', 'Kashish', 'Joselle', 'Izumi', 'Fancy', 'Everlyn', 'Elvina', 'Eleora', 'Eilene', 'Dhwani', 'Davinah', 'Nyari', 'Anella', 'Aina', 'Dianelly', 'Briah', 'Bellina', 'Ayako', 'Arianie', 'Archita', 'Annasofia', 'Ammi', 'Ameyalli', 'Amana', 'Akane', 'Aaniya', 'Suley', 'Shravya', 'Zayana', 'Zohal', 'Teyla', 'Gurneet', 'Alizey', 'Audria', 'Evely', 'Belina', 'Greidy', 'Kaaliyah', 'Liahna', 'Mailin', 'Bryssa', 'Daveyon', 'Dafnee', 'Evelett', 'Adanely', 'Setareh', 'Zuleidy', 'Zeltzin', 'Sonakshi', 'Smrithi', 'Simarpreet', 'Meilyn', 'Mursal', 'Naiara', 'Navah', 'Nevah', 'Prabhleen', 'Lexii', 'Quinley', 'Rinoa', 'Roseline', 'Ryleeann', 'Sahori', 'Shabnam', 'Shraddha', 'Ravleen', 'Nixie', 'Nastassja', 'Miyuki', 'Evangaline', 'Nailani', 'Christoph', 'Bertrand', 'Mher', 'Mayan', 'Kennan', 'Kais', 'Joshuan', 'Jaion', 'Estefano', 'Dominyk', 'Domenik', 'Tejon', 'Tomoki', 'Mickael', 'Toriano', 'Micahel', 'Tuan', 'Shabd', 'Atzin', 'Jovin', 'Marino', 'Maxi', 'Syris', 'Alcides', 'Camil', 'Harshith', 'Ludwin', 'Neeraj', 'Ramces', 'Sevak', 'Esaul', 'Desiderio', 'Daimien', 'Calan', 'Jovannie', 'Khachik', 'Wil', 'Anthonyjr', 'Ethanmatthew', 'Paco', 'Akio', 'Angeljesus', 'Artyom', 'Beauregard', 'Chriss', 'Christo', 'Conall', 'Alian', 'Nain', 'Samik', 'Shriyan', 'Wess', 'Siris', 'Shuban', 'Shian', 'Josejuan', 'Etai', 'Yandell', 'Herschel', 'Kien', 'Jesua', 'Nicanor', 'Renny', 'Rohith', 'Mansoor', 'Martinjr', 'Nik', 'Nykolas', 'Olegario', 'Presten', 'Luismiguel', 'Razi', 'Savir', 'Shadi', 'Thanh', 'Valdemar', 'Vineet', 'Wynston', 'Reyly', 'Oliana', 'Kriss', 'Jamisen', 'Angeldejesus', 'Aureliano', 'Joshuamichael', 'Brasen', 'Josejr', 'Jobani', 'Elad', 'Daemian', 'Andriy', 'Alegandro', 'Oracio', 'Josearmando', 'Anurag', 'Yvan', 'Vignesh', 'Tayo', 'Takeshi', 'Sirus', 'Seananthony', 'Rameen', 'Naithen', 'Marvyn', 'Daimon', 'Duilio', 'Dyami', 'Edwing', 'Elwin', 'Greko', 'Lancelot', 'Jeriko', 'Jiro', 'Joseenrique', 'Reeya', 'Ceana', 'Ghazal', 'Marybelle', 'Nalini', 'Rael', 'Samreen', 'Cataleah', 'Seylah', 'Starlett', 'Stellarose', 'Yeila', 'Zoelle', 'Aerilyn', 'Kataleyah', 'Aleksia', 'Kanna', 'Calisi', 'Ayame', 'Sayana', 'Siennah', 'Taitum', 'Tiya', 'Umaiza', 'Vicktoria', 'Bani', 'Vidushi', 'Simrit', 'Delsa', 'Sadiee', 'Ryenn', 'Kaloni', 'Jazzy', 'Ilany', 'Galya', 'Evaline', 'Evalette', 'Elsi', 'Eleanna', 'Delaynie', 'Liannah', 'Lilyanah', 'Nayleah', 'Nazly', 'Sophiah', 'Thora', 'Rhylin', 'Yuhan', 'Aivy', 'Ameliya', 'Angelinne', 'Ariannie', 'Bethlehem', 'Calise', 'Aarika', 'Rubee', 'Dottie', 'Kaede', 'Cici', 'Khamila', 'Jayel', 'Ardyn', 'Ayshia', 'Cyniah', 'Danessa', 'Rehman', 'Nelsy', 'Addisson', 'Mykale', 'Nickita', 'Javoni', 'Nicholaos', 'Kwadwo', 'Kerwin', 'Alayssa', 'Byanka', 'Danyka', 'Dagmawi', 'Jinger', 'Kahmani', 'Jie', 'Mordchai', 'Yissachar', 'Toure', 'Emmerie', 'Joelynn', 'Miaisabella', 'Ellyson', 'Aitan', 'Novalie', 'Aviella', 'Calirose', 'Syrai', 'Kassia', 'Ardian', 'Madisynn', 'Palin', 'Jahmiere', 'Sue', 'Abigaile', 'Adalin', 'Allia', 'Harlin', 'Alliah', 'Jolett', 'Chiam', 'Chezky', 'Annalysa', 'Chanina', 'Breahna', 'Candida', 'Oaks', 'Belal', 'Alassane', 'Anisty', 'Mirai', 'Mylin', 'Nazeli', 'Monzeratt', 'Nari', 'Neya', 'Nitika', 'Noriah', 'Lilu', 'Yarisbeth', 'Kailia', 'Kiannah', 'Shaily', 'Riddhima', 'Quetzally', 'Phyllis', 'Ondine', 'Mathea', 'Lilou', 'Lillybeth', 'Lidya', 'Lenya', 'Keylani', 'Kayleeann', 'Kayleah', 'Jiaqi', 'Jeylah', 'Jameela', 'Mery', 'Jailia', 'Leylany', 'Lexxie', 'Grissel', 'Gwenivere', 'Sherlynn', 'Solay', 'Syrah', 'Tarynn', 'Tianah', 'Tilda', 'Saraiah', 'Xymena', 'Yari', 'Yulie', 'Zeba', 'Mileydi', 'Danette', 'Mileah', 'Yaremi', 'Jimin', 'Roxi', 'Raha', 'Haide', 'Kalliyan', 'Karlyn', 'Kayah', 'Leiya', 'Raylena', 'Bronco', 'Bettina', 'Dalexa', 'Theia', 'Marigold', 'Cyrine', 'Xylina', 'Zaidee', 'Jasneet', 'Leoni', 'Savvy', 'Zosia', 'Sumayya', 'Anabeth', 'Surveen', 'Veera', 'Zanna', 'Aahna', 'Asenath', 'Aseneth', 'Maytte', 'Annarose', 'Amberrose', 'Alizea', 'Peytin', 'Paitynn', 'Nomi', 'Nilani', 'Vella', 'Chaitra', 'Aarini', 'Arliz', 'Ellanore', 'Emmalia', 'Essie', 'Shanzay', 'Eztli', 'Gali', 'Hade', 'Hannahgrace', 'Ilah', 'Io', 'Izelle', 'Feather', 'Aoi', 'Solstice', 'Viva', 'Marybella', 'Maisey', 'Lareen', 'Lanah', 'Fiora', 'Evalena', 'Elisabetta', 'Deema', 'Ciela', 'Asenet', 'Analaya', 'Euan', 'Alezandra', 'Tiannah', 'Naba', 'Marni', 'Klever', 'Colm', 'Diyora', 'Theadora', 'Jonaven', 'Abeeha', 'Bashy', 'Anayla', 'Layani', 'Pema', 'Ayriana', 'Cobey', 'Jalayna', 'Gaddiel', 'Nuri', 'Mirielle', 'Haniyah', 'Jawon', 'Casin', 'Jerrin', 'Yasirah', 'Jesaiah', 'Chrisangel', 'Kail', 'Pesha', 'Khadir', 'Mela', 'Rylon', 'Mehreen', 'Ta', 'Cobi', 'Filomena', 'Davida', 'Deryk', 'Raaina', 'Koben', 'Farzeen', 'Shamirah', 'Leighanne', 'Tahjir', 'Retal', 'Dago', 'Reemas', 'Sufyaan', 'Felton', 'Jailon', 'Nakira', 'Javeion', 'Joshwa', 'Ruqayyah', 'Juanangel', 'Jonavon', 'Barton', 'Anamika', 'Skyelynn', 'Cordale', 'Bryor', 'Moustafa', 'Tayshun', 'Rafuel', 'Evoleht', 'Amberlin', 'Aleea', 'Graceyn', 'Baylea', 'Chaselyn', 'Hartlee', 'Insiya', 'Kayton', 'Ahliyah', 'Everlie', 'Keyleen', 'Daleisa', 'Harlon', 'Brodyn', 'Oluwatomisin', 'Yazleemar', 'Amzie', 'Jahmani', 'Atlanta', 'Sarely', 'Rudolfo', 'Syire', 'Heinrich', 'Mala', 'Diem', 'Calab', 'Braelin', 'Jdyn', 'Breyona', 'Aiyla', 'Nolberto', 'Severo', 'Adarian', 'Calub', 'Disaya', 'Rosaleigh', 'Yuan', 'Sevinch', 'Sarrinah', 'Usiel', 'Zeferino', 'Avram', 'Naeema', 'Naama', 'Munirah', 'Hibba', 'Frimmy', 'Fajr', 'Minha', 'Arleene', 'Oved', 'Shymir', 'Ranferi', 'Orpha', 'Aayat', 'Nusaiba', 'Spenser', 'Teshawn', 'Rosene', 'Tobyn', 'Naailah', 'Tyrel', 'Rokia', 'Mahreen', 'Jantzen', 'Kaedan', 'Daeshaun', 'Nylia', 'Momina', 'Mattingly', 'Adessa', 'Dayden', 'Ashiyah', 'Franki', 'Abiha', 'Drelynn', 'Rayhona', 'Jahiya', 'Cane', 'Joclyn', 'Zaakir', 'Saahir', 'Tykeem', 'Cortlen', 'Deavion', 'Jerlyn', 'Ishrat', 'Chinedu', 'Hindel', 'Garon', 'Gumaro', 'Zamyah', 'Tres', 'Genendy', 'Kadijah', 'Aadin', 'Farzana', 'Adonnis', 'Arinze', 'Rosanne', 'Aydyn', 'Becket', 'Dacian', 'Demontre', 'Derron', 'Dianelys', 'Yagmur', 'Haniyyah', 'Caidan', 'Kc', 'Nathanuel', 'Oliverio', 'Jeily', 'Skylor', 'Draizy', 'Ruthanna', 'Nashay', 'Analisse', 'Somtochukwu', 'Ellamarie', 'Layonna', 'Trung', 'Emanuella', 'Sila', 'Mahiyah', 'Antjuan', 'Zahrah', 'Berta', 'Dashun', 'Aurelie', 'Antigone', 'Aaima', 'Nedved', 'Starlynn', 'Kalem', 'Emunah', 'Joseth', 'Biana', 'Susanne', 'Antwoine', 'Rouguiatou', 'Osnas', 'Katherina', 'Braelan', 'Yitel', 'Hudy', 'Freidy', 'Brya', 'Epiphany', 'Solon', 'Chavi', 'Anyae', 'Greggory', 'Izzak', 'Zarin', 'Henya', 'Yhair', 'Vaden', 'Sherri', 'Farris', 'Haldrin', 'Hervey', 'Jaiveon', 'Alyjah', 'Rashaan', 'Avelynn', 'Keveon', 'Mato', 'Jleigh', 'Novaleigh', 'Ashraf', 'Nakyla', 'Jenisis', 'Zniyah', 'Zayley', 'Kolette', 'Aizlynn', 'Lakely', 'Julee', 'Vung', 'Collyns', 'Calee', 'Kaydie', 'Talus', 'Tycen', 'Arienne', 'Avyn', 'Meelah', 'Makenlie', 'Mirakle', 'Jeremey', 'Mariaemilia', 'Fallou', 'Juliya', 'Keosha', 'Daleiza', 'Crosley', 'Rahiem', 'Dalayza', 'Jaleigha', 'Iviana', 'Ryman', 'Cashlynn', 'Rahat', 'Daycee', 'Naiovy', 'Hibah', 'Karsynn', 'Kaselyn', 'Paeton', 'Kearstin', 'Alandria', 'Navey', 'Devyne', 'Adalae', 'Alla', 'Zerenity', 'Kensli', 'Jaryn', 'Nona', 'Misk', 'Luisana', 'Iraida', 'Harbor', 'Rutledge', 'Ellayna', 'Jadarion', 'Tenleigh', 'Man', 'Stassi', 'Elisse', 'Natnael', 'Orchid', 'Akiyah', 'Codie', 'Jamyron', 'Dusti', 'Reygan', 'Emilyann', 'Shriyans', 'Koran', 'Roze', 'Eleah', 'Jenisha', 'Daiden', 'Greenley', 'Abenezer', 'Dawsen', 'Grettell', 'Tynleigh', 'Jaycelynn', 'Davanee', 'Evalee', 'Lochlyn', 'Montzerrat', 'Liliah', 'Leanah', 'Jonanthony', 'Kodiak', 'Kynzlie', 'Munachiso', 'Sarahgrace', 'Imogene', 'Antonios', 'Diogenes', 'Quinlyn', 'Keerthi', 'Loralye', 'Wicahpi', 'Heyward', 'Corley', 'Evaleigh', 'Blakley', 'Krissy', 'Deyanara', 'Yalexi', 'Temiloluwa', 'Gloriana', 'Emmalynne', 'Lofton', 'Jaylei', 'Jewelz', 'Xaylee', 'Brennyn', 'Yaneisy', 'Holten', 'Zeniyah', 'Marshun', 'Kendalynn', 'Payzlee', 'Addalie', 'Karder', 'Aderinsola', 'Shawntez', 'Elliemae', 'Ailah', 'Aboubakar', 'Nyshawn', 'Callyn', 'Demarrion', 'Audreyanna', 'Nyelli', 'Keandrea', 'Talik', 'Nyx', 'Raeley', 'Parthenia', 'Mayalen', 'Bonifacio', 'Alayzia', 'Ardit', 'Annalucia', 'Jaymar', 'Kainan', 'Ameri', 'Absidy', 'Liviana', 'Pennelope', 'Artan', 'Alazne', 'Aleiya', 'Allyzon', 'Kollins', 'Amarilis', 'Admir', 'Analynn', 'Inioluwa', 'Edris', 'Annora', 'Arynn', 'Jonier', 'Auriella', 'Deidre', 'Blyss', 'Jaelee', 'Jedd', 'Jaquel', 'Renesme', 'Emitt', 'Dayvian', 'Aneudy', 'Faithlyn', 'Brecklynn', 'Kinzleigh', 'Malone', 'Nasean', 'Avri', 'Trayon', 'Paxtyn', 'Averly', 'Payslee', 'Firman', 'Webb', 'Ravin', 'Galiana', 'Irany', 'Philopateer', 'Isabeau', 'Zinachidi', 'Zunaira', 'Tushar', 'Madeleyn', 'Jillianna', 'Washington', 'Kaedance', 'Avriana', 'Zaybree', 'Nasif', 'Rozalynn', 'Kendrah', 'Sirenity', 'Xayla', 'Holston', 'Xoey', 'Kinzee', 'Enson', 'Laityn', 'Shakim', 'Rizwan', 'Dailon', 'Samiul', 'Papa', 'Dinora', 'Hiromy', 'Maebry', 'Serigne', 'Findlay', 'Makynzee', 'Minnah', 'Abdikadir', 'Marjory', 'Mckinzee', 'Merit', 'Zanae', 'Glendon', 'Slaton', 'Luanna', 'Mirza', 'Nandan', 'Atlantis', 'Catheryn', 'Axxel', 'Dinari', 'Luann', 'Zebastian', 'Jettson', 'Kyzer', 'Creek', 'Pincus', 'Kadrian', 'Townsend', 'Basia', 'Ahmadou', 'Serenitee', 'Bristal', 'Ridhaan', 'Rayland', 'Packer', 'Kaysan', 'Owais', 'Ayyan', 'Mckenzey', 'Iaan', 'Matis', 'Jak', 'Draden', 'Bradan', 'Crixus', 'Lalia', 'Chelsee', 'Kesley', 'Chasiti', 'Azarias', 'Sidi', 'Aslynn', 'Anelis', 'Wyeth', 'Kyrian', 'Wally', 'Kip', 'Darionna', 'Keaden', 'Miqueas', 'Kayceon', 'Nyrell', 'Lilyona', 'Nikoloz', 'Nasier', 'Amori', 'Jj', 'Makenah', 'Mahin', 'Kaisyn', 'Keeleigh', 'Beckem', 'Dreama', 'Mkayla', 'Lanyiah', 'Alexandrya', 'Kelcee', 'Saryn', 'Chidinma', 'Godfrey', 'Kadi', 'Fahd', 'Burhan', 'Korrine', 'Bryndee', 'Meygan', 'Traxton', 'Mccrae', 'Umer', 'Ziza', 'Leeasia', 'Malvin', 'Jansel', 'Matison', 'Nakyia', 'Ismaila', 'Breken', 'Falcon', 'Taeler', 'Dianey', 'Whitman', 'Zaheer', 'Nero', 'Yeraldi', 'Abygale', 'Mihran', 'Yussef', 'Miklo', 'Shneor', 'Zavior', 'Almendra', 'Magdalyn', 'Nyeli', 'Avrielle', 'Reagen', 'Menasha', 'Abbiegail', 'Allisa', 'Alyxandria', 'Corrin', 'Mikaeel', 'Zlatan', 'Riyad', 'Zeyad', 'Shaelee', 'Deandria', 'Henoch', 'Dayveon', 'Elnatan', 'Yonason', 'Breely', 'Weslie', 'Daris', 'Tayzlee', 'Amirjon', 'Keionna', 'Muhammadali', 'Cristin', 'Dalana', 'Feynman', 'Aydee', 'Dannielynn', 'Elizeth', 'Fedra', 'Rossi', 'Derricka', 'Anisjon', 'Anaceli', 'Amee', 'Shohjahon', 'Sidnee', 'Shem', 'Mable', 'Josaline', 'Ayrianna', 'Jorgen', 'Aubrea', 'Shamyia', 'Rayla', 'Theodoros', 'Temur', 'Suleima', 'Syrianna', 'Tanveer', 'Taige', 'Taheem', 'Thi', 'Varick', 'Tyriana', 'Patsy', 'Onyinyechi', 'Shoaib', 'Shmeil', 'Zayyan', 'Daana', 'Mykalah', 'Sherif', 'Carden', 'Madasyn', 'Sigifredo', 'Reba', 'Sabra', 'Lyssa', 'Taide', 'Yarelin', 'Lynzee', 'Rustyn', 'Roston', 'Daniele', 'Robben', 'Prynce', 'Omran', 'Khyren', 'Miyonna', 'Jaiah', 'Naji', 'Cotton', 'Rayane', 'Jayjay', 'Stalin', 'Iyan', 'Hayla', 'Keatyn', 'Krystiana', 'Hunt', 'Gaius', 'Kayln', 'Liav', 'Kaysean', 'Gabrian', 'Jessyca', 'Marylyn', 'Efrayim', 'Zayvian', 'Aayansh', 'Zayli', 'Brevan', 'Kort', 'Lanyia', 'Johna', 'Chayden', 'Lehi', 'Lahna', 'Behruz', 'Aidaly', 'Asadbek', 'Sable', 'Allaina', 'Alisher', 'Izzabelle', 'Breeann', 'Elizebeth', 'Conway', 'Janisha', 'Chukwuebuka', 'Felicitas', 'Caeson', 'Allianna', 'Azel', 'Aceyn', 'Shilynn', 'Niema', 'Jasalyn', 'Arafat', 'Lochlann', 'Gradyn', 'Cobe', 'Jhayden', 'Lathen', 'Mung', 'Zyien', 'Basel', 'Zayde', 'Montanna', 'Brigido', 'Maalik', 'Thayer', 'Ayyub', 'Jasyah', 'Jnya', 'Aarron', 'Tinlee', 'Tiwatope', 'Varshini', 'Braycen', 'Zaiya', 'Kiril', 'Syon', 'Canton', 'Thaddaeus', 'Sakai', 'Syaire', 'Syair', 'Sadler', 'Mujahid', 'Braheem', 'Lamiah', 'Shariq', 'Zakkery', 'Klea', 'Jeylen', 'Neven', 'Naasir', 'Dacorian', 'Fariza', 'Issai', 'Jihaad', 'Anye', 'Haleem', 'Juvencio', 'Javar', 'Vivia', 'Trask', 'Seynabou', 'Hajj', 'Daelon', 'Epifanio', 'Sair', 'Nygel', 'Jamareon', 'Tylashia', 'Raahim', 'Louden', 'Tayte', 'Khaseem', 'Braun', 'Ruperto', 'Safi', 'Josten', 'Farrell', 'Dalan', 'Danish', 'Anaka', 'Shouana', 'Yadir', 'Graison', 'Tramon', 'Mc', 'Decorian', 'Kowen', 'Dilon', 'Eduar', 'Traevion', 'Eliberto', 'Karlin', 'Grabiel', 'Tzivi', 'Nathanal', 'Zahro', 'Pater', 'Dynasti', 'Elizar', 'Whittaker', 'Haddon', 'Nykira', 'Cinch', 'Uchenna', 'Ackley', 'Miroslav', 'Santasia', 'Tuck', 'Jandiel', 'Sahmir', 'Coyt', 'Yuepheng', 'Kong', 'Zekhi', 'Tabor', 'Adrion', 'Saxton', 'Nicholos', 'Autzen', 'Placido', 'Kolsen', 'Remigio', 'Raydon', 'Melecio', 'Jshawn', 'Jaianna', 'Albin', 'Evon', 'Genises', 'Velia', 'Tryniti', 'Haelee', 'Magdaleno', 'Mathayus', 'Furkan', 'Kashlynn', 'Randee', 'Aquil', 'Shaydon', 'Erek', 'Ginobili', 'Katryna', 'Rashan', 'Ariauna', 'Kevonte', 'Kahseem', 'Kahne', 'Ricco', 'Kareemah', 'Jabree', 'Tymarion', 'Yanellie', 'Namirah', 'Eliazer', 'Dlaney', 'Levii', 'Albion', 'Lusero', 'Lisett', 'Alivea', 'Timara', 'Josefa', 'Juany', 'Lander', 'Kam', 'Haliegh', 'Marrisa', 'Randiel', 'Stefanos', 'Tniya', 'Zenab', 'Audryana', 'Matisyahu', 'Jeremiyah', 'Carizma', 'Marcuz', 'Jaire', 'Ishraq', 'Charlsie', 'Gaspard', 'Elisea', 'Arica', 'Bartolo', 'Clayten', 'Sadiyah', 'Mahjabeen', 'Jamera', 'Jamarques', 'Assata', 'Arshiya', 'Ajooni', 'Ramata', 'Deigo', 'Naava', 'Cosima', 'Arrington', 'Beily', 'Areesha', 'Amilah', 'Guerin', 'Umme', 'Junia', 'Jerelyn', 'Afsheen', 'Jamail', 'Wendall', 'Derius', 'Crist', 'Breina', 'Ugochukwu', 'Catcher', 'Ethon', 'Coopar', 'Crystian', 'Drelon', 'Evrett', 'Padraic', 'Kaydyn', 'Elijio', 'Sema', 'Safina', 'Rubina', 'Rosaria', 'Zarius', 'Oreoluwa', 'Romaisa', 'Azavion', 'Nuala', 'Duron', 'Anajah', 'Ladarion', 'Onesimo', 'Jayona', 'Michale', 'Nyair', 'Khalen', 'Abdon', 'Keaghan', 'Tysir', 'Fouad', 'Emmilyn', 'Gyasi', 'Joaquim', 'Najir', 'Quasir', 'Aviya', 'Heer', 'Reeva', 'Beren', 'Karthika', 'Chasya', 'Krupa', 'Shulamis', 'Abanoub', 'Brinda', 'Sajada', 'Saumya', 'Walton', 'Juhi', 'Sreeja', 'Rus', 'Zani', 'Snigdha', 'Soumya', 'Jahnae', 'Tzipa', 'Naasia', 'Filipe', 'Tahjmir', 'Guido', 'Cowen', 'Tayshon', 'Tyreik', 'Niyanna', 'Amonie', 'Niyana', 'Mckaela', 'Sanyia', 'Saliyah', 'Chatham', 'Aryia', 'Halleigh', 'Aarvi', 'Jalik', 'Jahmez', 'Zaveon', 'Nyquan', 'Keileigh', 'Daziah', 'Zimere', 'Nyamal', 'Deryck', 'Vikrant', 'Nahsir', 'Tanmay', 'Yissochor', 'Kiasia', 'Zyeria', 'Lorali', 'Trig', 'Qalid', 'Eavan', 'Graycie', 'Caydin', 'Keniah', 'Janiaya', 'Khaliya', 'Tiasia', 'Bryanne', 'Tyashia', 'Tashana', 'Takia', 'Latonya', 'Marykatherine', 'Britt', 'Jakel', 'Breland', 'Markevion', 'Derrian', 'Prentiss', 'Kemarrion', 'Ashanta', 'Jakala', 'Aasia', 'Yacqub', 'Jamaurie', 'Maclain', 'Ger', 'Kyliegh', 'Calypso', 'Deziray', 'Mylea', 'Carmya', 'Abdiqani', 'Abdihafid', 'Abdifatah', 'Yussuf', 'Hamse', 'Bauer', 'Abdishakur', 'Abdirahim', 'Muaad', 'Mukhtar', 'Abdurahman', 'Muntas', 'Azhar', 'Ladan', 'Khadra', 'Idil', 'Nawaal', 'Jurnie', 'Riham', 'Sakariye', 'Abdalla', 'Shakiyah', 'Jaques', 'Trashawn', 'Taniela', 'Gurfateh', 'Grason', 'Darwyn', 'Arias', 'Saud', 'Klaus', 'Dilraj', 'Mataio', 'Jasraj', 'Avelardo', 'Aariv', 'Kassius', 'Yegor', 'Viren', 'Sumner', 'Soul', 'Shailen', 'Kalden', 'Kit', 'Larenz', 'Leeam', 'Milos', 'Paxon', 'Yerick', 'Fin', 'Kabeer', 'Jaxxson', 'Samyak', 'Sahas', 'Rhythm', 'Raynav', 'Noahjames', 'Nirvan', 'Nevaan', 'Mayank', 'Masson', 'Klyde', 'Keo', 'Kavir', 'Kalev', 'Calixto', 'Caspar', 'Chuck', 'Dexton', 'Dhyan', 'Esiah', 'Arihant', 'Ezel', 'Hamad', 'Harveer', 'Hercules', 'Ilay', 'Saatvik', 'Pieter', 'Rayansh', 'Rivaan', 'Dawit', 'Dragon', 'Eames', 'Marcjacob', 'Ej', 'Gurtaaj', 'Hamish', 'Jayin', 'Jishnu', 'Keir', 'Kyo', 'Elih', 'Zeeshan', 'Khyrie', 'Artis', 'Langdon', 'Kahmari', 'Jahmarion', 'Zymari', 'Sayvion', 'Nycere', 'Kamaree', 'Jahmire', 'Trason', 'Ziyan', 'Cheveyo', 'Jyron', 'Caellum', 'Mantej', 'Roark', 'Rollins', 'Rydan', 'Saathvik', 'Rawley', 'Sirius', 'Ariv', 'Aum', 'Nayden', 'Oswin', 'Prescott', 'Sagan', 'Shrihan', 'Stavro', 'Morrissey', 'Urias', 'Vonn', 'Yago', 'Yahshua', 'Zayed', 'Fateh', 'Remmy', 'Vaishnav', 'Izacc', 'Mister', 'Balthazar', 'Shahan', 'Lamiracle', 'Rolen', 'Emanie', 'Kaity', 'Liany', 'Maham', 'Angelea', 'Jihan', 'Salmo', 'Sabrin', 'Tyrice', 'Oleksandr', 'Josgar', 'Edina', 'Caelen', 'Aadarsh', 'Cordaro', 'Wiktor', 'Maxymilian', 'Lavontae', 'Treshon', 'Martynas', 'Markeese', 'Jabarie', 'Almir', 'Martrell', 'Andrian', 'Ashya', 'Aisatou', 'Michelina', 'Sukanya', 'Rachele', 'Tajae', 'Teona', 'Yanique', 'Jani', 'Kadijatou', 'Nyanna', 'Afra', 'Xiao', 'Akila', 'Ambika', 'Andreana', 'Bisma', 'Brany', 'Honora', 'Hayat', 'Nefertari', 'Mariem', 'Brandel', 'Dafina', 'Dilara', 'Farhana', 'Iysis', 'Shari', 'Mantas', 'Aubriel', 'Aneta', 'Javaeh', 'Lawayne', 'Maciah', 'Quintyn', 'Javonni', 'Parrish', 'Trevell', 'Vuk', 'Amjad', 'Archibald', 'Novak', 'Haze', 'Wanda', 'Lileigh', 'Addeline', 'Coralynn', 'Aivah', 'Braxtin', 'Khizar', 'Jamylah', 'Dim', 'Kamile', 'Makua', 'Oshen', 'Mj', 'Koalii', 'Brevyn', 'Zaineb', 'Jaxtin', 'Mashayla', 'Teodora', 'Yailene', 'Cornelia', 'Marrion', 'Batool', 'Kornelia', 'Erielle', 'Brynnleigh', 'Dariya', 'Jaylun', 'Corion', 'Jonylah', 'Kamyia', 'Kamareon', 'Augustas', 'Jamyriah', 'Tyrielle', 'Alacia', 'Alayia', 'Shadiamond', 'Alaija', 'Anija', 'Dewey', 'Laykin', 'Lynnox', 'Daytona', 'Tyneshia', 'Xiara', 'Catriona', 'Kiyara', 'Markella', 'Niesha', 'Nube', 'Nyeisha', 'Afnan', 'Rehana', 'Simy', 'Yo', 'Briany', 'Maytal', 'Kiahna', 'Shyasia', 'Rosina', 'Jasmely', 'Diandra', 'Jerilyn', 'No', 'Johanny', 'Kreindy', 'Zeinabou', 'Zanai', 'Yianna', 'Shilat', 'Chyla', 'Imane', 'Javonna', 'Meng', 'Jakyria', 'Zacaria', 'Atleigh', 'Jadarious', 'Jarrius', 'Jakevious', 'Markavion', 'Embree', 'Dhairya', 'Jeison', 'Laksh', 'Carolena', 'Zaima', 'Ying', 'Yaslene', 'Tasmia', 'Sanjida', 'Nadja', 'Juliannah', 'Jenisse', 'Fatim', 'Faizah', 'Cheyla', 'Assa', 'Shiran', 'Pella', 'Minah', 'Menna', 'Londin', 'Raffaella', 'Mellisa', 'Margret', 'Marcelle', 'Kieara', 'Katrin', 'Jahnasia', 'Halimatou', 'Haja', 'Graciana', 'Danajah', 'Christell', 'Shreyansh', 'Ashrith', 'Aaryav', 'Ahyan', 'Lavi', 'Miquela', 'Tamanna', 'Lin', 'Janique', 'Brighid', 'Kavita', 'Rafia', 'Tiarah', 'Safiatou', 'Aniqa', 'Sameerah', 'Shanai', 'Jojo', 'Jaidalyn', 'Deziah', 'Arlenis', 'Anaria', 'Amra', 'Atiya', 'Loriann', 'Madelena', 'Nazia', 'Nyala', 'Rea', 'Halimah', 'Saniyya', 'Shifa', 'Sanii', 'Temmy', 'Clodagh', 'Katina', 'Lyniah', 'Shama', 'Fatimatou', 'Efrat', 'Danaisha', 'Su', 'Samra', 'Trystin', 'Vin', 'Yamato', 'Kariyah', 'Derrianna', 'Jasiya', 'Courtlynn', 'Alaila', 'Kemaya', 'Jadasia', 'Chynna', 'Torianna', 'Talasia', 'Nykerria', 'Khyli', 'Masiya', 'Amberleigh', 'Akia', 'Chania', 'Llana', 'Mychaela', 'Samoria', 'Journii', 'Shamiracle', 'Tyesha', 'Mikiya', 'Sameria', 'Larsen', 'Maryella', 'Mahari', 'Blakelynn', 'Deondra', 'Caniyah', 'Aryelle', 'Jaiana', 'Timaya', 'Tamyah', 'Tamarah', 'Yareliz', 'Aracelys', 'Jamariya', 'Christyana', 'Emaya', 'Jahnia', 'Keyshia', 'Jalana', 'Micaella', 'Antasia', 'Caylynn', 'Daily', 'Kalyse', 'Nyasiah', 'Jenai', 'Tyvon', 'Wilkens', 'Jahkeem', 'Zykierra', 'Jamayah', 'Kameria', 'Kemiya', 'Taysean', 'Tywan', 'Quandarius', 'Quavion', 'Kemontae', 'Gabreil', 'Jatoria', 'Jaquitta', 'Derica', 'Joncarlos', 'Jhamari', 'Treyon', 'Sharrod', 'Maddon', 'Jairon', 'Jacai', 'Destyn', 'Barrington', 'Yann', 'Zamauri', 'Winsley', 'Rubens', 'Jshaun', 'Janard', 'Jakarri', 'Kentravious', 'Yailyn', 'Dequavious', 'Amarius', 'Janecia', 'Kourtni', 'Lyrical', 'Braxston', 'Fender', 'Demarious', 'Brysun', 'Brannen', 'Whit', 'Jamoni', 'Zyquavious', 'Kvon', 'Keanthony', 'Laiden', 'Keyshon', 'Toney', 'Antwann', 'Jatavius', 'Tremel', 'Kentavius', 'Solyana', 'Tahari', 'Tamryn', 'Telia', 'Marquavion', 'Makenlee', 'Antwane', 'Yazlyn', 'Synai', 'Keyonni', 'Neriyah', 'Angeliyah', 'Teyona', 'Raziyah', 'Clementina', 'Lavaris', 'Wilton', 'Rajiv', 'Kenson', 'Janari', 'Jazariyah', 'Jahn', 'Herby', 'Dewin', 'Adams', 'Lautaro', 'Diante', 'Shomari', 'Luccas', 'Kemuel', 'Eddrick', 'Artavis', 'Anaelle', 'Jacarie', 'Baylin', 'Aleanna', 'Kenniyah', 'Ganesh', 'Zemirah', 'Yanna', 'Terryn', 'Somya', 'Naika', 'Lyrica', 'Laiyla', 'Izaria', 'Damiah', 'Andreanna', 'Shalimar', 'Raziah', 'Fabianna', 'Zanaria', 'Xolani', 'Sarae', 'Ahmiyah', 'Brenae', 'Jahzaria', 'Ornella', 'Samorah', 'Tuleen', 'Kseniya', 'Yariah', 'Varvara', 'Ainhoa', 'Atarah', 'Briniyah', 'Latisha', 'Kasai', 'Berline', 'Caridad', 'Mariluz', 'Taija', 'Tanesha', 'Eneida', 'Teja', 'Asianna', 'Charline', 'Digna', 'Ellissa', 'Jahliyah', 'Jahnyah', 'Alishia', 'Ranijah', 'Janira', 'Trianna', 'Lianni', 'Layana', 'Haedyn', 'Emya', 'Anaysia', 'Anayiah', 'Marysa', 'Yelenis', 'Nephtalie', 'Alissia', 'Cyriah', 'Saraiya', 'Eleen', 'Nadezhda', 'Raevyn', 'Zaliah', 'Jamall', 'Ahmarion', 'Amariyon', 'Emmarae', 'Tedrick', 'Taziyah', 'Neisha', 'Aylana', 'Macarena', 'Shatavia', 'Shalee', 'Magdala', 'Javaria', 'Jamilla', 'Genessa', 'Gabrianna', 'Claudine', 'Terrah', 'Ryana', 'Sharell', 'Kemaury', 'Lucious', 'Pernell', 'Isaah', 'Jedrek', 'Ronell', 'Salesi', 'Abhijot', 'Andoni', 'Angelito', 'Iskander', 'Miliano', 'Obi', 'Odell', 'Maxamillion', 'Sajan', 'Strummer', 'Vitali', 'Abhimanyu', 'Aisea', 'Lam', 'Anant', 'Darek', 'Dylin', 'Ethanjacob', 'Jasiri', 'Jeren', 'Shubham', 'Irineo', 'Gurkirat', 'Arick', 'Atiksh', 'Vinicio', 'Keny', 'Keano', 'Kaisei', 'Lowen', 'Korde', 'Kanav', 'Jibran', 'Jefte', 'Jahel', 'Isack', 'Finbar', 'Famous', 'Ethanjoseph', 'Einar', 'Eagan', 'Doroteo', 'Daichi', 'Carlosdaniel', 'Aryav', 'Arnel', 'Gagik', 'Issack', 'Ajit', 'Jona', 'Daelen', 'Escher', 'Kalyan', 'Noeh', 'Navarro', 'Mujtaba', 'Merrik', 'Macallan', 'Lio', 'Kamilo', 'Maveric', 'Yichen', 'Dekker', 'Eisen', 'Oak', 'Zeno', 'Apolo', 'Zorawar', 'Ashot', 'Elroy', 'Iktan', 'Jetson', 'Jovian', 'Jupiter', 'Aadhav', 'Knoah', 'Arek', 'Avyukt', 'Ole', 'Arno', 'Rihaan', 'Rodger', 'Ithan', 'Orian', 'Rivaldo', 'Sadrac', 'Shaheen', 'Tavita', 'Vibhav', 'Jayan', 'Wesly', 'Sonnie', 'Wolfe', 'Bodi', 'Cloud', 'Devesh', 'Harshaan', 'Acelin', 'Jaceion', 'Giordan', 'Izekiel', 'Anoop', 'Advith', 'Yanis', 'Waris', 'Viyan', 'Tycho', 'Rivan', 'Radin', 'Nicasio', 'Harsha', 'Michiah', 'Nayeliz', 'Bader', 'Maxen', 'Jamaine', 'Romano', 'Zacari', 'Azion', 'Ajahni', 'Kamarri', 'Xion', 'Kavari', 'Oshea', 'Riccardo', 'Takai', 'Woodley', 'Yaroslav', 'Kyro', 'Garvin', 'Jadalee', 'Elanor', 'Aristea', 'Mykael', 'Mukund', 'Marvion', 'Deona', 'Hassani', 'Takhia', 'Nakhia', 'Yordan', 'Connell', 'Dairon', 'Izaiyah', 'Kanard', 'Omarie', 'Giulian', 'Livan', 'Yosbel', 'Dreshawn', 'Davinci', 'Phillipe', 'Jahkari', 'Marven', 'Evelio', 'Godson', 'Jaise', 'Miron', 'Yaxiel', 'Jacoria', 'Lanier', 'Gleb', 'Makyia', 'Omaria', 'Tatiyanna', 'Annakate', 'Kapena', 'Harkirat', 'Destan', 'Edrik', 'Drayson', 'Dj', 'Destry', 'Basem', 'Azad', 'Aydeen', 'Auguste', 'Athos', 'Anvay', 'Adrick', 'Sion', 'Montae', 'Leeon', 'Jedi', 'Edahi', 'Richy', 'Rjay', 'Samanyu', 'Toma', 'Tonny', 'Uziah', 'Nishan', 'Vedansh', 'Xian', 'Elijahjames', 'Exzavier', 'Ozil', 'Kion', 'Caelum', 'Aldrich', 'Aideen', 'Zenon', 'Tamim', 'Mansour', 'Jonan', 'Galvin', 'Cylis', 'Chetan', 'Mavrik', 'Nilmar', 'Rishit', 'Roc', 'Sankalp', 'Senai', 'Namish', 'Tan', 'Tydus', 'Yosuf', 'Juliani', 'Jadden', 'Ranbir', 'Buster', 'Taras', 'Naoki', 'Kamakana', 'Koah', 'Kiai', 'Steffi', 'Gagandeep', 'Kathelyn', 'Gayatri', 'Lissete', 'Namrata', 'Aariana', 'Alejandrina', 'Alexxia', 'Anise', 'Jacalyn', 'Aaminah', 'Ariba', 'Bronte', 'Caylah', 'Ciclaly', 'Citlalic', 'Cyndi', 'Arpita', 'Xela', 'Betzayra', 'Tamana', 'Izellah', 'Ilette', 'Athyna', 'Zarahi', 'Xiadani', 'Verania', 'Zykeriah', 'Mileigh', 'Brookley', 'Marisabel', 'Emmaclaire', 'Kamoria', 'Bradleigh', 'Jamicheal', 'Keonta', 'Tamarcus', 'Quinterrius', 'Lynleigh', 'Ashleymarie', 'Bethzaida', 'Jacinta', 'Lizzett', 'Marylynn', 'Nanette', 'Neidy', 'Nemesis', 'Nyanza', 'Lariza', 'Sherrie', 'Taline', 'Tisha', 'Gayathri', 'Berenize', 'Anjani', 'Alisi', 'Estreya', 'Elonna', 'Dyanara', 'Dulcinea', 'Destenie', 'Dayjah', 'Dallanara', 'Clariza', 'Chantell', 'Candie', 'Brigida', 'Ashmita', 'Ashland', 'Anysa', 'Anureet', 'Annaliz', 'Angeliah', 'Manasi', 'Nandi', 'Palak', 'Riannah', 'Rika', 'Sieanna', 'Livier', 'Steffani', 'Malibu', 'Jaleria', 'Kaytee', 'Brigit', 'Yarethzi', 'Tyrah', 'Suhey', 'Megumi', 'Gelsey', 'Czarina', 'Bethzi', 'Alyne', 'Yaretsy', 'Odaliz', 'Himani', 'Tabetha', 'Talulah', 'Topacio', 'Tulsi', 'Yanette', 'Yanina', 'Jina', 'Yulitza', 'Kiela', 'Zarela', 'Aileth', 'Bethsy', 'Betzi', 'Damiana', 'Spring', 'Ahriana', 'Toccara', 'Camauri', 'Joycelin', 'Jocilyn', 'Jinny', 'Jenin', 'Jasminerose', 'Ithzel', 'Ireri', 'Irania', 'Ilda', 'Holiday', 'Hasmik', 'Kaysha', 'Harumi', 'Armida', 'Armine', 'Biviana', 'Briselda', 'Dannae', 'Darlyne', 'Kortni', 'Deviny', 'Elenoa', 'Elley', 'Ellyse', 'Hannya', 'Khalea', 'Kirti', 'Korrina', 'Yenna', 'Yesmin', 'Brittanya', 'Samanthamarie', 'Jenyfer', 'Miu', 'Mikeila', 'Jannell', 'Jenalee', 'Kaelynne', 'Kalanie', 'Karenna', 'Kaylena', 'Mikhaela', 'Lan', 'Laylene', 'Leilaney', 'Lezli', 'Liane', 'Lithzy', 'Marlyne', 'Lanessa', 'Jenine', 'Jarethzy', 'Evenny', 'Ellyssa', 'Geetika', 'Hailei', 'Elane', 'Roseanna', 'Rudi', 'Sadye', 'Samera', 'Sarika', 'Nayzeth', 'Almira', 'Alexyss', 'Addis', 'Kateleen', 'Anjolina', 'Ysenia', 'Zo', 'Ameliana', 'Anitza', 'Hanny', 'Makinlee', 'La', 'Christon', 'Kharter', 'Gaines', 'Jabraylen', 'Wheeler', 'Bronner', 'Ladarrion', 'Oyuki', 'Somer', 'Navneet', 'Natsumi', 'Annai', 'Larae', 'Libertad', 'Adriane', 'Reana', 'Zita', 'Yvett', 'Yukari', 'Yomara', 'Yezenia', 'Xochilth', 'Wendolyn', 'Symantha', 'Sumer', 'Sindhu', 'Shine', 'Shandi', 'Serra', 'Seleen', 'Sarine', 'Lizvet', 'Mariaceleste', 'Meleni', 'Melida', 'Mystique', 'Leelee', 'Akela', 'Albina', 'Aleli', 'Yilia', 'Videl', 'Erabella', 'Elza', 'Ellarose', 'Elara', 'Eevee', 'Deleyza', 'Decklyn', 'Dailynn', 'Corra', 'Arsalan', 'Celestine', 'Azayla', 'Azaliah', 'Avina', 'Asmi', 'Arna', 'Anwita', 'Posey', 'Rheya', 'Rosha', 'Rosibel', 'Sophy', 'Cathaleya', 'Sohil', 'Antone', 'Tynan', 'Alekxander', 'Abelino', 'Nicholes', 'Nabor', 'Melchor', 'Malakhai', 'Jaskirat', 'Heraclio', 'Gianpaolo', 'Fabrizzio', 'Danieljr', 'Cervando', 'Baruc', 'Luisantonio', 'Malacai', 'Nadeem', 'Nathin', 'Saurav', 'Seanpatrick', 'Krishan', 'Shalim', 'Tin', 'Asaf', 'Atul', 'Johnbenedict', 'Vanshika', 'Eudora', 'Weslyn', 'Zoejane', 'Jaanvi', 'Jaydalynn', 'Jerusalem', 'Gursirat', 'Kaliyanei', 'Kayleena', 'Kaylonnie', 'Khalessi', 'Khiara', 'Lunabella', 'Manvi', 'Karolynn', 'Ashmit', 'Assael', 'Bora', 'Matthewjames', 'Kinan', 'Kenner', 'Kaushik', 'Juanjr', 'Jaicob', 'Inigo', 'Hy', 'Hung', 'Howie', 'Icey', 'Alexanderjames', 'Hiyab', 'Miral', 'Aalaya', 'Aaria', 'Adeena', 'Adhara', 'Angelmarie', 'Yoyo', 'Xia', 'Evalin', 'Harleyquinn', 'Vasilisa', 'Vaani', 'Ulyana', 'Tora', 'Sophiagrace', 'Sloka', 'Siah', 'Setayesh', 'Savreen', 'Samhitha', 'Rowena', 'Roselie', 'Kaimi', 'Quetzal', 'Prajna', 'Nahlia', 'Hedy', 'Amanpreet', 'Ankit', 'Anthonny', 'Chandra', 'Jasminemarie', 'Lelah', 'Merilyn', 'Narali', 'Naydelyn', 'Rosely', 'Shadia', 'Lanea', 'Deija', 'Evelen', 'Geselle', 'Milenka', 'Mixtli', 'Moncerat', 'Moncerrath', 'Nasia', 'Nautika', 'Marilena', 'Naydeline', 'Nikka', 'Nirel', 'Prescilla', 'Raechel', 'Sachiko', 'Itzela', 'Sandie', 'Hazell', 'Demarie', 'Aliena', 'Anagabriela', 'Adalay', 'Sitlali', 'Sinahi', 'Simranjit', 'Cecy', 'Carolyna', 'Bryanah', 'Beatris', 'Astha', 'Apoorva', 'Anmarie', 'Akaylah', 'Aika', 'Ahniah', 'Adelayda', 'Aasha', 'Zitlalli', 'Yaribeth', 'Vianne', 'Verenise', 'Surabhi', 'Aliciana', 'Claryssa', 'Desaree', 'Yashica', 'Neeka', 'Manmeet', 'Dillen', 'Dhillon', 'Caillou', 'Avo', 'Avetis', 'Arul', 'Adeeb', 'Zareena', 'Joahan', 'Kodey', 'Jayr', 'Kayin', 'Wilfrido', 'Kethan', 'Daelin', 'Garo', 'Giordano', 'Jese', 'Jessee', 'Johnpatrick', 'Sandeep', 'Eliodoro', 'Zanayah', 'Kou', 'Leovardo', 'Donoven', 'Izela', 'Edrei', 'Eleuterio', 'Mairany', 'Haeley', 'Haillie', 'Hikari', 'Inari', 'Itcel', 'Jasminne', 'Malini', 'Jestine', 'Jonelle', 'Julyanna', 'Justeen', 'Kanisha', 'Kyaira', 'Linsy', 'Joleena', 'Yobany', 'Xuan', 'Yumiko', 'Joshuajohn', 'Joon', 'Jesusmanuel', 'Jesusjr', 'Jeramie', 'Elpidio', 'Elek', 'Yakeline', 'Rainbow', 'Sady', 'Huey', 'Treshun', 'Jacque', 'Dillian', 'Chanse', 'Chanler', 'Amiree', 'Azyria', 'Jamyri', 'Baelyn', 'Khyleigh', 'Jakyron', 'Germani', 'Chancelor', 'Davonta', 'Jacobey', 'Jaqualon', 'Jyrin', 'Jakyrin', 'Tajh', 'Deontre', 'Nicolly', 'Annajulia', 'Jadalys', 'Analuiza', 'Kentravion', 'Kesan', 'Ladamien', 'Marsean', 'Dujuan', 'Tyrie', 'Reda', 'Grahm', 'Ryer', 'Mohamadali', 'Jawan', 'Delorean', 'Jujuan', 'Jafar', 'Dalon', 'Alante', 'Daire', 'Davarion', 'Olufemi', 'Record', 'Diamonte', 'Mayara', 'Annaluiza', 'Kiaraliz', 'Anacarolina', 'Kaston', 'Jontrell', 'Jarden', 'Zyairah', 'Shalva', 'Tsion', 'Teniola', 'Suriyah', 'Yuren', 'Wiliam', 'Jewelisa', 'Jenaveve', 'Jaquelinne', 'Jacklin', 'Ivannia', 'Heydy', 'Haidi', 'Gyanna', 'Gwynneth', 'Goretti', 'Fianna', 'Fergie', 'Ermelinda', 'Dayanne', 'Damary', 'Clarise', 'Ciella', 'Arihana', 'Aryona', 'Ashleynicole', 'Ashwika', 'Aurea', 'Jasaun', 'Treyshawn', 'Tayona', 'Labria', 'Ireoluwa', 'Oluwadamilola', 'Childnotnamed', 'Bethania', 'Kaire', 'Oluwaseun', 'Jawuan', 'Lansana', 'Tion', 'Access', 'Harlym', 'Markiyah', 'Deaira', 'Marieme', 'Aquinnah', 'Tighe', 'Mathews', 'Vitor', 'Kaua', 'Davide', 'Danera', 'Nicollas', 'Mattheus', 'Jaythian', 'Iyona', 'Damilola', 'Aylet', 'Zein', 'Decarlos', 'Rakiya', 'Shatha', 'Kinga', 'Kyia', 'Caera', 'Emira', 'Alyx', 'Anastasija', 'Marija', 'Sofija', 'Mychelle', 'Migdalia', 'Dajanay', 'Jamyrie', 'Anesa', 'Khalilah', 'Tahitoa', 'Haloa', 'Kaikane', 'Haaheo', 'Alii', 'Gable', 'Kotryna', 'Seeley', 'Nida', 'Lama', 'Kanaloa', 'Aukai', 'Senia', 'Kupono', 'Kupaa', 'Kelii', 'Kamaehu', 'Hinaea', 'Kelia', 'Ilihia', 'Kulia', 'Lilikoi', 'Jakye', 'Leialoha', 'Pualani', 'Kuuipo', 'Tihani', 'Jaysha', 'Kaimalu', 'Meleana', 'Nohealani', 'Alohilani', 'Lehiwa', 'Hiiaka', 'Lahela', 'Saysha', 'Lawaia', 'Ashante', 'Keshawna', 'Beata', 'Danita', 'Jsean', 'Danaja', 'Tayonna', 'Kiaira', 'Lilley', 'Ellerie', 'Rukaya', 'Merna', 'Makalynn', 'Oluwaseyi', 'Taeshawn', 'Radwan', 'Brita', 'Najmo', 'Sabarin', 'Idman', 'Sihaam', 'Suad', 'Ilham', 'Nimco', 'Gao', 'Maizen', 'Leyland', 'Bretton', 'Jahlon', 'Areonna', 'Amarri', 'Eyoel', 'Khodee', 'Janeah', 'Janila', 'Tsitsiki', 'Mercer', 'Malajah', 'Amyre', 'Djuan', 'Kajuan', 'Dquan', 'Zariel', 'Areej', 'Retaj', 'Joud', 'Remas', 'Imoni', 'Breelle', 'Onalee', 'Ghadeer', 'Manessa', 'Ruqaya', 'Lundon', 'Kennidy', 'Shayma', 'Cung', 'Tyion', 'Tayon', 'Joelie', 'Kehaulani', 'Brittanny', 'Lolah', 'Genesiss', 'Analyn', 'Gwendolynn', 'Jaye', 'Vivyana', 'Valerye', 'Tonia', 'Thanya', 'Tayana', 'Tallula', 'Kaylynne', 'Sucely', 'Seryna', 'Seri', 'Seniyah', 'Sanna', 'Remie', 'Parnika', 'Oliva', 'Nathalye', 'Myley', 'Jenessy', 'Jezebelle', 'Sonnet', 'Kamillah', 'Jazzel', 'Japleen', 'Elanna', 'Christabelle', 'Casie', 'Brithanny', 'Breezy', 'Audrena', 'Atzi', 'Ariahna', 'Antonela', 'Analya', 'Aashritha', 'Shir', 'Saraih', 'Netra', 'Makaylin', 'Lylia', 'Brieana', 'Sadhana', 'Samai', 'Anaira', 'Aryanah', 'Dhanya', 'Euna', 'Enna', 'Haifa', 'Jolissa', 'Karmina', 'Kohana', 'Leahna', 'Khianna', 'Layleen', 'Lunden', 'Madysin', 'Adayah', 'Elis', 'Ingris', 'Glendy', 'Katherinne', 'Keyarah', 'Marelie', 'Marline', 'Marry', 'Mishel', 'Jaslynne', 'Jadey', 'Jamilett', 'Naeemah', 'Niveah', 'Nyemah', 'Patrisha', 'Rakel', 'Reylene', 'Ayleth', 'Miyu', 'Myli', 'Erilyn', 'Olivea', 'Ailanie', 'Jasira', 'Leilanee', 'Maela', 'Malai', 'Mariapaula', 'Masha', 'Melea', 'Monalisa', 'Leily', 'Sherlene', 'Saidy', 'Fathima', 'Genelle', 'Francella', 'Emmajean', 'Dyanne', 'Danyela', 'Cyanne', 'Clowie', 'Cicely', 'Brizia', 'Anareli', 'Anahis', 'Alexssa', 'Aileene', 'Pragya', 'Jenell', 'Isel', 'Charvi', 'Meleena', 'Micel', 'Misel', 'Mahati', 'Naiema', 'Nita', 'Padma', 'Sanae', 'Seriyah', 'Shireen', 'Shivali', 'Meiling', 'Nissa', 'Antonieta', 'Anina', 'Sumedha', 'Sonoma', 'Sheylin', 'Sevilla', 'Sensi', 'Secilia', 'Sanaia', 'Sabah', 'Rona', 'Brianah', 'Marlaina', 'Mariateresa', 'Sibylla', 'Candise', 'Caterin', 'Jadine', 'Caelin', 'Charlyn', 'Cherlyn', 'Breanah', 'Katelen', 'Majestic', 'Marelly', 'Dayamy', 'Zaraya', 'Yudany', 'Yanell', 'Vianet', 'Vaneza', 'Ulani', 'Tayde', 'Tatevik', 'Syanna', 'Sukhpreet', 'Suheidy', 'Sua', 'Starlene', 'Sonal', 'Rajdeep', 'Priscella', 'Ariele', 'Percilla', 'Yumalai', 'Yeneisy', 'Yaqueline', 'Sinthia', 'Shara', 'Saliha', 'Rosalin', 'Leileen', 'Kaelly', 'Joselinne', 'Janesa', 'Aidsa', 'Yoceline', 'Bindi', 'Rosaisela', 'Evonne', 'Merelyn', 'Zeenat', 'Shaianne', 'Siria', 'Xitlally', 'Ayram', 'Banesa', 'Pranathi', 'Ivet', 'Abeer', 'Ahlana', 'Thao', 'Alejah', 'Nishika', 'Neli', 'Aireanna', 'Nayra', 'Nataliah', 'Jilliana', 'Jordann', 'Jovita', 'Kathrynn', 'Katriel', 'Leala', 'Tabytha', 'Lida', 'Chihiro', 'Manasa', 'Anacristina', 'Angelinah', 'Zienna', 'Annya', 'Madeira', 'Lizbett', 'Yoali', 'Mikela', 'Meeya', 'Mar', 'Moorea']\n"
     ]
    }
   ],
   "source": [
    "name_count = data['Name'].value_counts().sort_values()\n",
    "min_value = name_count.min()\n",
    "least_name = name_count[name_count == min_value].index.to_list()\n",
    "print('Các tên xuất hiện ít nhất : ', least_name)"
   ]
  },
  {
   "cell_type": "markdown",
   "metadata": {},
   "source": [
    "**1,8. Top 10 most used names?**"
   ]
  },
  {
   "cell_type": "code",
   "execution_count": 12,
   "metadata": {},
   "outputs": [
    {
     "data": {
      "text/plain": [
       "Name\n",
       "Riley     1112\n",
       "Avery     1080\n",
       "Jordan    1073\n",
       "Peyton    1064\n",
       "Hayden    1049\n",
       "Taylor    1033\n",
       "Jayden    1031\n",
       "Alexis     984\n",
       "Payton     971\n",
       "Dakota     962\n",
       "Name: count, dtype: int64"
      ]
     },
     "execution_count": 12,
     "metadata": {},
     "output_type": "execute_result"
    }
   ],
   "source": [
    "top10_name = data['Name'].value_counts()\n",
    "top10_name.head(10)"
   ]
  },
  {
   "cell_type": "markdown",
   "metadata": {},
   "source": [
    "**1.9. Visualize the top 10 popular names in 2014**"
   ]
  },
  {
   "cell_type": "code",
   "execution_count": 13,
   "metadata": {},
   "outputs": [
    {
     "data": {
      "image/png": "[encoded data removed]",
      "text/plain": [
       "<Figure size 1000x600 with 1 Axes>"
      ]
     },
     "metadata": {},
     "output_type": "display_data"
    }
   ],
   "source": [
    "data_2014 = data[data['Year'] == 2014]\n",
    "name_2014 = data_2014['Name'].value_counts()\n",
    "top10_name_2014 = name_2014.head(10)\n",
    "\n",
    "plt.figure(figsize=(10,6))\n",
    "top10_name_2014.plot(kind = 'bar', color='skyblue')\n",
    "plt.title('Top 10 tên trong năm 2014')\n",
    "plt.xlabel('Tên')\n",
    "plt.ylabel('Số lần xuất hiện')\n",
    "plt.xticks(rotation = 45)\n",
    "plt.show()"
   ]
  },
  {
   "cell_type": "markdown",
   "metadata": {},
   "source": [
    "**1.10. Visualize the ratio of men and women over the years 2004-2014**"
   ]
  },
  {
   "cell_type": "code",
   "execution_count": 14,
   "metadata": {},
   "outputs": [
    {
     "data": {
      "text/html": [
       "<div>\n",
       "<style scoped>\n",
       "    .dataframe tbody tr th:only-of-type {\n",
       "        vertical-align: middle;\n",
       "    }\n",
       "\n",
       "    .dataframe tbody tr th {\n",
       "        vertical-align: top;\n",
       "    }\n",
       "\n",
       "    .dataframe thead th {\n",
       "        text-align: right;\n",
       "    }\n",
       "</style>\n",
       "<table border=\"1\" class=\"dataframe\">\n",
       "  <thead>\n",
       "    <tr style=\"text-align: right;\">\n",
       "      <th>Gender</th>\n",
       "      <th>F</th>\n",
       "      <th>M</th>\n",
       "    </tr>\n",
       "    <tr>\n",
       "      <th>Year</th>\n",
       "      <th></th>\n",
       "      <th></th>\n",
       "    </tr>\n",
       "  </thead>\n",
       "  <tbody>\n",
       "    <tr>\n",
       "      <th>2004</th>\n",
       "      <td>48083</td>\n",
       "      <td>38337</td>\n",
       "    </tr>\n",
       "    <tr>\n",
       "      <th>2005</th>\n",
       "      <td>49196</td>\n",
       "      <td>39298</td>\n",
       "    </tr>\n",
       "    <tr>\n",
       "      <th>2006</th>\n",
       "      <td>50851</td>\n",
       "      <td>40952</td>\n",
       "    </tr>\n",
       "    <tr>\n",
       "      <th>2007</th>\n",
       "      <td>52234</td>\n",
       "      <td>42098</td>\n",
       "    </tr>\n",
       "    <tr>\n",
       "      <th>2008</th>\n",
       "      <td>52568</td>\n",
       "      <td>42402</td>\n",
       "    </tr>\n",
       "    <tr>\n",
       "      <th>2009</th>\n",
       "      <td>51987</td>\n",
       "      <td>42622</td>\n",
       "    </tr>\n",
       "    <tr>\n",
       "      <th>2010</th>\n",
       "      <td>51084</td>\n",
       "      <td>42223</td>\n",
       "    </tr>\n",
       "    <tr>\n",
       "      <th>2011</th>\n",
       "      <td>50651</td>\n",
       "      <td>41894</td>\n",
       "    </tr>\n",
       "    <tr>\n",
       "      <th>2012</th>\n",
       "      <td>50722</td>\n",
       "      <td>42302</td>\n",
       "    </tr>\n",
       "    <tr>\n",
       "      <th>2013</th>\n",
       "      <td>50440</td>\n",
       "      <td>42303</td>\n",
       "    </tr>\n",
       "    <tr>\n",
       "      <th>2014</th>\n",
       "      <td>51030</td>\n",
       "      <td>43118</td>\n",
       "    </tr>\n",
       "  </tbody>\n",
       "</table>\n",
       "</div>"
      ],
      "text/plain": [
       "Gender      F      M\n",
       "Year                \n",
       "2004    48083  38337\n",
       "2005    49196  39298\n",
       "2006    50851  40952\n",
       "2007    52234  42098\n",
       "2008    52568  42402\n",
       "2009    51987  42622\n",
       "2010    51084  42223\n",
       "2011    50651  41894\n",
       "2012    50722  42302\n",
       "2013    50440  42303\n",
       "2014    51030  43118"
      ]
     },
     "execution_count": 14,
     "metadata": {},
     "output_type": "execute_result"
    }
   ],
   "source": [
    "new_data = data[(data['Year'] >= 2004) & (data['Year'] <= 2014)]\n",
    "f_m = new_data.groupby(['Year','Gender']).size().unstack()\n",
    "f_m\n"
   ]
  },
  {
   "cell_type": "code",
   "execution_count": 67,
   "metadata": {},
   "outputs": [
    {
     "data": {
      "text/html": [
       "<div>\n",
       "<style scoped>\n",
       "    .dataframe tbody tr th:only-of-type {\n",
       "        vertical-align: middle;\n",
       "    }\n",
       "\n",
       "    .dataframe tbody tr th {\n",
       "        vertical-align: top;\n",
       "    }\n",
       "\n",
       "    .dataframe thead th {\n",
       "        text-align: right;\n",
       "    }\n",
       "</style>\n",
       "<table border=\"1\" class=\"dataframe\">\n",
       "  <thead>\n",
       "    <tr style=\"text-align: right;\">\n",
       "      <th></th>\n",
       "      <th>Year</th>\n",
       "      <th>Ratio_of_men</th>\n",
       "      <th>Ratio_of_women</th>\n",
       "    </tr>\n",
       "  </thead>\n",
       "  <tbody>\n",
       "    <tr>\n",
       "      <th>0</th>\n",
       "      <td>2004</td>\n",
       "      <td>0.556387</td>\n",
       "      <td>0.443613</td>\n",
       "    </tr>\n",
       "    <tr>\n",
       "      <th>1</th>\n",
       "      <td>2005</td>\n",
       "      <td>0.555925</td>\n",
       "      <td>0.444075</td>\n",
       "    </tr>\n",
       "    <tr>\n",
       "      <th>2</th>\n",
       "      <td>2006</td>\n",
       "      <td>0.553914</td>\n",
       "      <td>0.446086</td>\n",
       "    </tr>\n",
       "    <tr>\n",
       "      <th>3</th>\n",
       "      <td>2007</td>\n",
       "      <td>0.553725</td>\n",
       "      <td>0.446275</td>\n",
       "    </tr>\n",
       "    <tr>\n",
       "      <th>4</th>\n",
       "      <td>2008</td>\n",
       "      <td>0.553522</td>\n",
       "      <td>0.446478</td>\n",
       "    </tr>\n",
       "    <tr>\n",
       "      <th>5</th>\n",
       "      <td>2009</td>\n",
       "      <td>0.549493</td>\n",
       "      <td>0.450507</td>\n",
       "    </tr>\n",
       "    <tr>\n",
       "      <th>6</th>\n",
       "      <td>2010</td>\n",
       "      <td>0.547483</td>\n",
       "      <td>0.452517</td>\n",
       "    </tr>\n",
       "    <tr>\n",
       "      <th>7</th>\n",
       "      <td>2011</td>\n",
       "      <td>0.547312</td>\n",
       "      <td>0.452688</td>\n",
       "    </tr>\n",
       "    <tr>\n",
       "      <th>8</th>\n",
       "      <td>2012</td>\n",
       "      <td>0.545257</td>\n",
       "      <td>0.454743</td>\n",
       "    </tr>\n",
       "    <tr>\n",
       "      <th>9</th>\n",
       "      <td>2013</td>\n",
       "      <td>0.543869</td>\n",
       "      <td>0.456131</td>\n",
       "    </tr>\n",
       "    <tr>\n",
       "      <th>10</th>\n",
       "      <td>2014</td>\n",
       "      <td>0.542019</td>\n",
       "      <td>0.457981</td>\n",
       "    </tr>\n",
       "  </tbody>\n",
       "</table>\n",
       "</div>"
      ],
      "text/plain": [
       "    Year  Ratio_of_men  Ratio_of_women\n",
       "0   2004      0.556387        0.443613\n",
       "1   2005      0.555925        0.444075\n",
       "2   2006      0.553914        0.446086\n",
       "3   2007      0.553725        0.446275\n",
       "4   2008      0.553522        0.446478\n",
       "5   2009      0.549493        0.450507\n",
       "6   2010      0.547483        0.452517\n",
       "7   2011      0.547312        0.452688\n",
       "8   2012      0.545257        0.454743\n",
       "9   2013      0.543869        0.456131\n",
       "10  2014      0.542019        0.457981"
      ]
     },
     "execution_count": 67,
     "metadata": {},
     "output_type": "execute_result"
    }
   ],
   "source": [
    "ratio = {\n",
    "    'Year' : ['20' + (str(i) if int(i) >= 10 else '0' + str(i)) for i in range(4,15)],\n",
    "    'Ratio_of_men' : f_m['F']/(f_m['F'] + f_m['M']),\n",
    "    'Ratio_of_women' : f_m['M']/(f_m['F'] + f_m['M']),\n",
    "}\n",
    "\n",
    "ratio_df = pd.DataFrame(ratio)\n",
    "ratio_df.reset_index(drop = True, inplace = True)\n",
    "ratio_df"
   ]
  },
  {
   "cell_type": "code",
   "execution_count": 71,
   "metadata": {},
   "outputs": [
    {
     "data": {
      "text/plain": [
       "array([ 0,  1,  2,  3,  4,  5,  6,  7,  8,  9, 10])"
      ]
     },
     "execution_count": 71,
     "metadata": {},
     "output_type": "execute_result"
    }
   ],
   "source": [
    "bar_width = 0.35\n",
    "index = np.arange(len(ratio_df['Year']))\n",
    "index"
   ]
  },
  {
   "cell_type": "code",
   "execution_count": 72,
   "metadata": {},
   "outputs": [
    {
     "data": {
      "image/png": "[encoded data removed]",
      "text/plain": [
       "<Figure size 1000x600 with 1 Axes>"
      ]
     },
     "metadata": {},
     "output_type": "display_data"
    }
   ],
   "source": [
    "plt.figure(figsize=(10, 6)) \n",
    "plt.bar(index, ratio_df['Ratio_of_men'], bar_width, color='blue', label='ratio_of_men')  \n",
    "plt.bar(index + bar_width, ratio_df['Ratio_of_women'], bar_width, color='green', label='ratio_of_women')  \n",
    "plt.title('The ratio of men and women over the years 2004-2014')\n",
    "plt.xlabel('Year')\n",
    "plt.xticks(index + bar_width / 2, ratio_df['Year'])  \n",
    "plt.legend()\n",
    "plt.show()"
   ]
  },
  {
   "cell_type": "markdown",
   "metadata": {},
   "source": [
    "### **2- WHAT AFFECTS TO TIPS?**"
   ]
  },
  {
   "cell_type": "markdown",
   "metadata": {},
   "source": [
    "**2.1. Read data**"
   ]
  },
  {
   "cell_type": "code",
   "execution_count": null,
   "metadata": {},
   "outputs": [
    {
     "data": {
      "text/html": [
       "<div>\n",
       "<style scoped>\n",
       "    .dataframe tbody tr th:only-of-type {\n",
       "        vertical-align: middle;\n",
       "    }\n",
       "\n",
       "    .dataframe tbody tr th {\n",
       "        vertical-align: top;\n",
       "    }\n",
       "\n",
       "    .dataframe thead th {\n",
       "        text-align: right;\n",
       "    }\n",
       "</style>\n",
       "<table border=\"1\" class=\"dataframe\">\n",
       "  <thead>\n",
       "    <tr style=\"text-align: right;\">\n",
       "      <th></th>\n",
       "      <th>Unnamed: 0</th>\n",
       "      <th>total_bill</th>\n",
       "      <th>tip</th>\n",
       "      <th>sex</th>\n",
       "      <th>smoker</th>\n",
       "      <th>day</th>\n",
       "      <th>time</th>\n",
       "      <th>size</th>\n",
       "    </tr>\n",
       "  </thead>\n",
       "  <tbody>\n",
       "    <tr>\n",
       "      <th>0</th>\n",
       "      <td>0</td>\n",
       "      <td>16.99</td>\n",
       "      <td>1.01</td>\n",
       "      <td>Female</td>\n",
       "      <td>No</td>\n",
       "      <td>Sun</td>\n",
       "      <td>Dinner</td>\n",
       "      <td>2</td>\n",
       "    </tr>\n",
       "    <tr>\n",
       "      <th>1</th>\n",
       "      <td>1</td>\n",
       "      <td>10.34</td>\n",
       "      <td>1.66</td>\n",
       "      <td>Male</td>\n",
       "      <td>No</td>\n",
       "      <td>Sun</td>\n",
       "      <td>Dinner</td>\n",
       "      <td>3</td>\n",
       "    </tr>\n",
       "    <tr>\n",
       "      <th>2</th>\n",
       "      <td>2</td>\n",
       "      <td>21.01</td>\n",
       "      <td>3.50</td>\n",
       "      <td>Male</td>\n",
       "      <td>No</td>\n",
       "      <td>Sun</td>\n",
       "      <td>Dinner</td>\n",
       "      <td>3</td>\n",
       "    </tr>\n",
       "    <tr>\n",
       "      <th>3</th>\n",
       "      <td>3</td>\n",
       "      <td>23.68</td>\n",
       "      <td>3.31</td>\n",
       "      <td>Male</td>\n",
       "      <td>No</td>\n",
       "      <td>Sun</td>\n",
       "      <td>Dinner</td>\n",
       "      <td>2</td>\n",
       "    </tr>\n",
       "    <tr>\n",
       "      <th>4</th>\n",
       "      <td>4</td>\n",
       "      <td>24.59</td>\n",
       "      <td>3.61</td>\n",
       "      <td>Female</td>\n",
       "      <td>No</td>\n",
       "      <td>Sun</td>\n",
       "      <td>Dinner</td>\n",
       "      <td>4</td>\n",
       "    </tr>\n",
       "    <tr>\n",
       "      <th>...</th>\n",
       "      <td>...</td>\n",
       "      <td>...</td>\n",
       "      <td>...</td>\n",
       "      <td>...</td>\n",
       "      <td>...</td>\n",
       "      <td>...</td>\n",
       "      <td>...</td>\n",
       "      <td>...</td>\n",
       "    </tr>\n",
       "    <tr>\n",
       "      <th>239</th>\n",
       "      <td>239</td>\n",
       "      <td>29.03</td>\n",
       "      <td>5.92</td>\n",
       "      <td>Male</td>\n",
       "      <td>No</td>\n",
       "      <td>Sat</td>\n",
       "      <td>Dinner</td>\n",
       "      <td>3</td>\n",
       "    </tr>\n",
       "    <tr>\n",
       "      <th>240</th>\n",
       "      <td>240</td>\n",
       "      <td>27.18</td>\n",
       "      <td>2.00</td>\n",
       "      <td>Female</td>\n",
       "      <td>Yes</td>\n",
       "      <td>Sat</td>\n",
       "      <td>Dinner</td>\n",
       "      <td>2</td>\n",
       "    </tr>\n",
       "    <tr>\n",
       "      <th>241</th>\n",
       "      <td>241</td>\n",
       "      <td>22.67</td>\n",
       "      <td>2.00</td>\n",
       "      <td>Male</td>\n",
       "      <td>Yes</td>\n",
       "      <td>Sat</td>\n",
       "      <td>Dinner</td>\n",
       "      <td>2</td>\n",
       "    </tr>\n",
       "    <tr>\n",
       "      <th>242</th>\n",
       "      <td>242</td>\n",
       "      <td>17.82</td>\n",
       "      <td>1.75</td>\n",
       "      <td>Male</td>\n",
       "      <td>No</td>\n",
       "      <td>Sat</td>\n",
       "      <td>Dinner</td>\n",
       "      <td>2</td>\n",
       "    </tr>\n",
       "    <tr>\n",
       "      <th>243</th>\n",
       "      <td>243</td>\n",
       "      <td>18.78</td>\n",
       "      <td>3.00</td>\n",
       "      <td>Female</td>\n",
       "      <td>No</td>\n",
       "      <td>Thur</td>\n",
       "      <td>Dinner</td>\n",
       "      <td>2</td>\n",
       "    </tr>\n",
       "  </tbody>\n",
       "</table>\n",
       "<p>244 rows × 8 columns</p>\n",
       "</div>"
      ],
      "text/plain": [
       "     Unnamed: 0  total_bill   tip     sex smoker   day    time  size\n",
       "0             0       16.99  1.01  Female     No   Sun  Dinner     2\n",
       "1             1       10.34  1.66    Male     No   Sun  Dinner     3\n",
       "2             2       21.01  3.50    Male     No   Sun  Dinner     3\n",
       "3             3       23.68  3.31    Male     No   Sun  Dinner     2\n",
       "4             4       24.59  3.61  Female     No   Sun  Dinner     4\n",
       "..          ...         ...   ...     ...    ...   ...     ...   ...\n",
       "239         239       29.03  5.92    Male     No   Sat  Dinner     3\n",
       "240         240       27.18  2.00  Female    Yes   Sat  Dinner     2\n",
       "241         241       22.67  2.00    Male    Yes   Sat  Dinner     2\n",
       "242         242       17.82  1.75    Male     No   Sat  Dinner     2\n",
       "243         243       18.78  3.00  Female     No  Thur  Dinner     2\n",
       "\n",
       "[244 rows x 8 columns]"
      ]
     },
     "execution_count": 60,
     "metadata": {},
     "output_type": "execute_result"
    }
   ],
   "source": [
    "data2 = pd.read_csv('tips.csv')\n",
    "data2"
   ]
  },
  {
   "cell_type": "markdown",
   "metadata": {},
   "source": [
    "**2.2. Delete the column `Unnamed: 0`**"
   ]
  },
  {
   "cell_type": "code",
   "execution_count": null,
   "metadata": {},
   "outputs": [
    {
     "data": {
      "text/html": [
       "<div>\n",
       "<style scoped>\n",
       "    .dataframe tbody tr th:only-of-type {\n",
       "        vertical-align: middle;\n",
       "    }\n",
       "\n",
       "    .dataframe tbody tr th {\n",
       "        vertical-align: top;\n",
       "    }\n",
       "\n",
       "    .dataframe thead th {\n",
       "        text-align: right;\n",
       "    }\n",
       "</style>\n",
       "<table border=\"1\" class=\"dataframe\">\n",
       "  <thead>\n",
       "    <tr style=\"text-align: right;\">\n",
       "      <th></th>\n",
       "      <th>total_bill</th>\n",
       "      <th>tip</th>\n",
       "      <th>sex</th>\n",
       "      <th>smoker</th>\n",
       "      <th>day</th>\n",
       "      <th>time</th>\n",
       "      <th>size</th>\n",
       "    </tr>\n",
       "  </thead>\n",
       "  <tbody>\n",
       "    <tr>\n",
       "      <th>0</th>\n",
       "      <td>16.99</td>\n",
       "      <td>1.01</td>\n",
       "      <td>Female</td>\n",
       "      <td>No</td>\n",
       "      <td>Sun</td>\n",
       "      <td>Dinner</td>\n",
       "      <td>2</td>\n",
       "    </tr>\n",
       "    <tr>\n",
       "      <th>1</th>\n",
       "      <td>10.34</td>\n",
       "      <td>1.66</td>\n",
       "      <td>Male</td>\n",
       "      <td>No</td>\n",
       "      <td>Sun</td>\n",
       "      <td>Dinner</td>\n",
       "      <td>3</td>\n",
       "    </tr>\n",
       "    <tr>\n",
       "      <th>2</th>\n",
       "      <td>21.01</td>\n",
       "      <td>3.50</td>\n",
       "      <td>Male</td>\n",
       "      <td>No</td>\n",
       "      <td>Sun</td>\n",
       "      <td>Dinner</td>\n",
       "      <td>3</td>\n",
       "    </tr>\n",
       "    <tr>\n",
       "      <th>3</th>\n",
       "      <td>23.68</td>\n",
       "      <td>3.31</td>\n",
       "      <td>Male</td>\n",
       "      <td>No</td>\n",
       "      <td>Sun</td>\n",
       "      <td>Dinner</td>\n",
       "      <td>2</td>\n",
       "    </tr>\n",
       "    <tr>\n",
       "      <th>4</th>\n",
       "      <td>24.59</td>\n",
       "      <td>3.61</td>\n",
       "      <td>Female</td>\n",
       "      <td>No</td>\n",
       "      <td>Sun</td>\n",
       "      <td>Dinner</td>\n",
       "      <td>4</td>\n",
       "    </tr>\n",
       "    <tr>\n",
       "      <th>...</th>\n",
       "      <td>...</td>\n",
       "      <td>...</td>\n",
       "      <td>...</td>\n",
       "      <td>...</td>\n",
       "      <td>...</td>\n",
       "      <td>...</td>\n",
       "      <td>...</td>\n",
       "    </tr>\n",
       "    <tr>\n",
       "      <th>239</th>\n",
       "      <td>29.03</td>\n",
       "      <td>5.92</td>\n",
       "      <td>Male</td>\n",
       "      <td>No</td>\n",
       "      <td>Sat</td>\n",
       "      <td>Dinner</td>\n",
       "      <td>3</td>\n",
       "    </tr>\n",
       "    <tr>\n",
       "      <th>240</th>\n",
       "      <td>27.18</td>\n",
       "      <td>2.00</td>\n",
       "      <td>Female</td>\n",
       "      <td>Yes</td>\n",
       "      <td>Sat</td>\n",
       "      <td>Dinner</td>\n",
       "      <td>2</td>\n",
       "    </tr>\n",
       "    <tr>\n",
       "      <th>241</th>\n",
       "      <td>22.67</td>\n",
       "      <td>2.00</td>\n",
       "      <td>Male</td>\n",
       "      <td>Yes</td>\n",
       "      <td>Sat</td>\n",
       "      <td>Dinner</td>\n",
       "      <td>2</td>\n",
       "    </tr>\n",
       "    <tr>\n",
       "      <th>242</th>\n",
       "      <td>17.82</td>\n",
       "      <td>1.75</td>\n",
       "      <td>Male</td>\n",
       "      <td>No</td>\n",
       "      <td>Sat</td>\n",
       "      <td>Dinner</td>\n",
       "      <td>2</td>\n",
       "    </tr>\n",
       "    <tr>\n",
       "      <th>243</th>\n",
       "      <td>18.78</td>\n",
       "      <td>3.00</td>\n",
       "      <td>Female</td>\n",
       "      <td>No</td>\n",
       "      <td>Thur</td>\n",
       "      <td>Dinner</td>\n",
       "      <td>2</td>\n",
       "    </tr>\n",
       "  </tbody>\n",
       "</table>\n",
       "<p>244 rows × 7 columns</p>\n",
       "</div>"
      ],
      "text/plain": [
       "     total_bill   tip     sex smoker   day    time  size\n",
       "0         16.99  1.01  Female     No   Sun  Dinner     2\n",
       "1         10.34  1.66    Male     No   Sun  Dinner     3\n",
       "2         21.01  3.50    Male     No   Sun  Dinner     3\n",
       "3         23.68  3.31    Male     No   Sun  Dinner     2\n",
       "4         24.59  3.61  Female     No   Sun  Dinner     4\n",
       "..          ...   ...     ...    ...   ...     ...   ...\n",
       "239       29.03  5.92    Male     No   Sat  Dinner     3\n",
       "240       27.18  2.00  Female    Yes   Sat  Dinner     2\n",
       "241       22.67  2.00    Male    Yes   Sat  Dinner     2\n",
       "242       17.82  1.75    Male     No   Sat  Dinner     2\n",
       "243       18.78  3.00  Female     No  Thur  Dinner     2\n",
       "\n",
       "[244 rows x 7 columns]"
      ]
     },
     "execution_count": 61,
     "metadata": {},
     "output_type": "execute_result"
    }
   ],
   "source": [
    "data2 = data2.drop(columns=['Unnamed: 0'])\n",
    "data2"
   ]
  },
  {
   "cell_type": "markdown",
   "metadata": {},
   "source": [
    "**2.3. How many rows and attributes the data has.**"
   ]
  },
  {
   "cell_type": "code",
   "execution_count": null,
   "metadata": {},
   "outputs": [
    {
     "name": "stdout",
     "output_type": "stream",
     "text": [
      "Number of rows :  244\n",
      "Number of attributes :  5\n"
     ]
    }
   ],
   "source": [
    "print('Number of rows : ', data2.shape[0])\n",
    "print('Number of attributes : ', data.shape[1])"
   ]
  },
  {
   "cell_type": "markdown",
   "metadata": {},
   "source": [
    "**2.4. Among the attributes, which attribute is the categorical attribute, which is the quantitative attribute?**"
   ]
  },
  {
   "cell_type": "code",
   "execution_count": null,
   "metadata": {},
   "outputs": [
    {
     "name": "stdout",
     "output_type": "stream",
     "text": [
      "category_attribute :  ['sex', 'smoker', 'day', 'time']\n",
      "quantitative_attribute :  ['total_bill', 'tip', 'size']\n"
     ]
    }
   ],
   "source": [
    "category_attribute = []\n",
    "quantitative_attribute = []\n",
    "\n",
    "for _ in data2.columns :\n",
    "    if data2[_].dtypes == 'object' :\n",
    "        category_attribute.append(_)\n",
    "    else :\n",
    "        quantitative_attribute.append(_)\n",
    "\n",
    "print('category_attribute : ', category_attribute)\n",
    "print('quantitative_attribute : ', quantitative_attribute)"
   ]
  },
  {
   "cell_type": "markdown",
   "metadata": {},
   "source": [
    "**2.5. How many men and women. What rate?**"
   ]
  },
  {
   "cell_type": "code",
   "execution_count": null,
   "metadata": {},
   "outputs": [
    {
     "name": "stdout",
     "output_type": "stream",
     "text": [
      "Số lượng nam :  157 , Tỉ lệ :  0.6434426229508197\n",
      "Số lượng nữ :  87 , Tỉ lệ :  0.35655737704918034\n"
     ]
    }
   ],
   "source": [
    "men = data2[data2['sex'] == 'Male'].shape[0]\n",
    "women = data2[data2['sex'] == 'Female'].shape[0]\n",
    "print('Số lượng nam : ', men, ', Tỉ lệ : ', men/data2.shape[0])\n",
    "print('Số lượng nữ : ', women, ', Tỉ lệ : ', women/data2.shape[0])"
   ]
  },
  {
   "cell_type": "markdown",
   "metadata": {},
   "source": [
    "**2.6. How many people smoke. What rate?**"
   ]
  },
  {
   "cell_type": "code",
   "execution_count": null,
   "metadata": {},
   "outputs": [
    {
     "name": "stdout",
     "output_type": "stream",
     "text": [
      "Số người hút thuốc :  93 , Tỉ lệ :  0.38114754098360654\n"
     ]
    }
   ],
   "source": [
    "num_smoker = data2[data2['smoker'] == 'Yes'].shape[0]\n",
    "print('Số người hút thuốc : ', num_smoker, ', Tỉ lệ : ', num_smoker/data2.shape[0])\n"
   ]
  },
  {
   "cell_type": "markdown",
   "metadata": {},
   "source": [
    "**2.7. What day of the week do customers come to the restaurant most? What rate?**"
   ]
  },
  {
   "cell_type": "code",
   "execution_count": null,
   "metadata": {},
   "outputs": [
    {
     "name": "stdout",
     "output_type": "stream",
     "text": [
      "Những ngày đông khách nhất :  Sat , Tỉ lệ :  0.35655737704918034\n"
     ]
    }
   ],
   "source": [
    "day = data2['day'].value_counts()\n",
    "max_cus = day.max()\n",
    "day_max_cus = day[day == max_cus].index.to_list()\n",
    "print('Những ngày đông khách nhất : ', *day_max_cus, ', Tỉ lệ : ', max_cus/data2.shape[0])"
   ]
  },
  {
   "cell_type": "markdown",
   "metadata": {},
   "source": [
    "**2.8. Which restaurant serves the most meals (Breakfast, Lunch, Dinner)?**"
   ]
  },
  {
   "cell_type": "code",
   "execution_count": null,
   "metadata": {},
   "outputs": [
    {
     "data": {
      "text/plain": [
       "['Dinner']"
      ]
     },
     "execution_count": 91,
     "metadata": {},
     "output_type": "execute_result"
    }
   ],
   "source": [
    "meal = data2['time'].value_counts()\n",
    "most_meal = meal.max()\n",
    "most_time = meal[meal == most_meal].index.to_list()\n",
    "most_time"
   ]
  },
  {
   "cell_type": "markdown",
   "metadata": {},
   "source": [
    "**2.9. What is the largest group of customers at the restaurant?**"
   ]
  },
  {
   "cell_type": "code",
   "execution_count": null,
   "metadata": {},
   "outputs": [
    {
     "name": "stdout",
     "output_type": "stream",
     "text": [
      "Largest customer group: ('Male', 'No', 'Sun', 'Dinner')\n"
     ]
    }
   ],
   "source": [
    "customers_count = data2.groupby(['sex', 'smoker', 'day', 'time']).sum()\n",
    "largest_group = customers_count['size'].idxmax()\n",
    "print(\"Largest customer group:\", largest_group)"
   ]
  },
  {
   "cell_type": "markdown",
   "metadata": {},
   "source": [
    "**2.10. On average, how many guests does a restaurant serve in a meal?**"
   ]
  },
  {
   "cell_type": "code",
   "execution_count": null,
   "metadata": {},
   "outputs": [
    {
     "data": {
      "text/plain": [
       "2.569672131147541"
      ]
     },
     "execution_count": 94,
     "metadata": {},
     "output_type": "execute_result"
    }
   ],
   "source": [
    "data2['size'].mean()"
   ]
  },
  {
   "cell_type": "markdown",
   "metadata": {},
   "source": [
    "**2.11. What is the restaurant's tip rate?**"
   ]
  },
  {
   "cell_type": "code",
   "execution_count": null,
   "metadata": {},
   "outputs": [
    {
     "name": "stdout",
     "output_type": "stream",
     "text": [
      "Tỷ lệ tiền tip trên bill :  0.15153580224410024\n"
     ]
    }
   ],
   "source": [
    "tip = data2['tip'].sum()\n",
    "total = data2['total_bill'].sum()\n",
    "print('Tỷ lệ tiền tip trên bill : ', tip/total)"
   ]
  },
  {
   "cell_type": "markdown",
   "metadata": {},
   "source": [
    "**2.12. What is the tip to total bill?**"
   ]
  },
  {
   "cell_type": "code",
   "execution_count": null,
   "metadata": {},
   "outputs": [
    {
     "name": "stdout",
     "output_type": "stream",
     "text": [
      "Tip to total bill ratio: 0.15153580224410024\n"
     ]
    }
   ],
   "source": [
    "tip_to_total_bill = (data2['tip'].sum()) / (data2['total_bill'].sum())\n",
    "\n",
    "print(\"Tip to total bill ratio:\", tip_to_total_bill)"
   ]
  },
  {
   "cell_type": "markdown",
   "metadata": {},
   "source": [
    "**2.13. Between men and women, who tips more money, who tips more often?**"
   ]
  },
  {
   "cell_type": "code",
   "execution_count": null,
   "metadata": {},
   "outputs": [
    {
     "name": "stdout",
     "output_type": "stream",
     "text": [
      "Nam tip nhiều hơn\n",
      "Nam tip thuong xuyen hon\n"
     ]
    }
   ],
   "source": [
    "men_tip = data2[data2['sex'] == 'Male']['tip'].sum()\n",
    "women_tip = data2[data2['sex'] == 'Female']['tip'].sum()\n",
    "f_men_tip = data2[data2['sex'] == 'Male']['tip'].shape[0]\n",
    "f_women_tip = data2[data2['sex'] == 'Female']['tip'].shape[0]\n",
    "print('Nam tip nhiều hơn' if men_tip > women_tip else ('Nữ tiếp nhiều hơn' if women_tip > men_tip else 'Nam và nữ tip bằng nhau'))\n",
    "print('Nam tip thuong xuyen hon' if f_men_tip > f_women_tip else ('Nu tip thuong xuyen hon' if f_women_tip > f_men_tip else 'Tan suat nam va nu tip bang nhau'))"
   ]
  },
  {
   "cell_type": "markdown",
   "metadata": {},
   "source": [
    "**2.14. Between smokers and non-smokers, who tips more, who tips more often?**"
   ]
  },
  {
   "cell_type": "code",
   "execution_count": null,
   "metadata": {},
   "outputs": [
    {
     "name": "stdout",
     "output_type": "stream",
     "text": [
      "no_smoker tiếp nhiều hơn\n",
      "no_smoker tip thuong xuyen hon\n"
     ]
    }
   ],
   "source": [
    "smoker_tip = data2[data2['smoker'] == 'Yes']['tip'].sum()\n",
    "no_smoker_tip = data2[data2['smoker'] == 'No']['tip'].sum()\n",
    "f_smoker_tip = data2[data2['smoker'] == 'Yes']['tip'].shape[0]\n",
    "f_no_smoker_tip = data2[data2['smoker'] == 'No']['tip'].shape[0]\n",
    "print('smoker tip nhiều hơn' if smoker_tip> no_smoker_tip else ('no_smoker tiếp nhiều hơn' if no_smoker_tip > smoker_tip else 'smoker và no_smoker tip bằng nhau'))\n",
    "print('smoker tip thuong xuyen hon' if f_smoker_tip > f_no_smoker_tip else ('no_smoker tip thuong xuyen hon' if f_no_smoker_tip > f_smoker_tip else 'Tan suat smoker va no_smoker tip bang nhau'))"
   ]
  },
  {
   "cell_type": "markdown",
   "metadata": {},
   "source": [
    "**2.15. Statistics of the total amount of tips received by day.**"
   ]
  },
  {
   "cell_type": "code",
   "execution_count": null,
   "metadata": {},
   "outputs": [
    {
     "data": {
      "text/plain": [
       "day\n",
       "Fri      51.96\n",
       "Sat     260.40\n",
       "Sun     247.39\n",
       "Thur    171.83\n",
       "Name: tip, dtype: float64"
      ]
     },
     "execution_count": 121,
     "metadata": {},
     "output_type": "execute_result"
    }
   ],
   "source": [
    "tip_by_day = data2.groupby('day')['tip'].sum()\n",
    "tip_by_day"
   ]
  },
  {
   "cell_type": "markdown",
   "metadata": {},
   "source": [
    "**2.16. Visualize total tips by day**"
   ]
  },
  {
   "cell_type": "code",
   "execution_count": null,
   "metadata": {},
   "outputs": [
    {
     "data": {
      "image/png": "[encoded data removed]",
      "text/plain": [
       "<Figure size 1000x600 with 1 Axes>"
      ]
     },
     "metadata": {},
     "output_type": "display_data"
    }
   ],
   "source": [
    "plt.figure(figsize=(10,6))\n",
    "tip_by_day.plot(kind='bar')\n",
    "plt.title('Total tips by day')\n",
    "plt.xlabel('day')\n",
    "plt.ylabel('total tip')\n",
    "plt.xticks(rotation = 0)\n",
    "plt.show()"
   ]
  },
  {
   "cell_type": "markdown",
   "metadata": {},
   "source": [
    "**2.17. Visualize total tip by meal (time)**"
   ]
  },
  {
   "cell_type": "code",
   "execution_count": null,
   "metadata": {},
   "outputs": [
    {
     "data": {
      "text/plain": [
       "time\n",
       "Dinner    546.07\n",
       "Lunch     185.51\n",
       "Name: tip, dtype: float64"
      ]
     },
     "execution_count": 128,
     "metadata": {},
     "output_type": "execute_result"
    }
   ],
   "source": [
    "tip_by_meal = data2.groupby('time')['tip'].sum()\n",
    "tip_by_meal"
   ]
  },
  {
   "cell_type": "code",
   "execution_count": null,
   "metadata": {},
   "outputs": [
    {
     "data": {
      "image/png": "[encoded data removed]",
      "text/plain": [
       "<Figure size 1000x600 with 1 Axes>"
      ]
     },
     "metadata": {},
     "output_type": "display_data"
    }
   ],
   "source": [
    "plt.figure(figsize=(10,6))\n",
    "tip_by_meal.plot(kind='bar')\n",
    "plt.title('Total tip by meal')\n",
    "plt.xlabel('Meal')\n",
    "plt.ylabel('Total tip')\n",
    "plt.xticks(rotation = 0)\n",
    "plt.show()"
   ]
  },
  {
   "cell_type": "markdown",
   "metadata": {},
   "source": [
    "**2.18. Plot histogram of the total invoice**"
   ]
  },
  {
   "cell_type": "code",
   "execution_count": null,
   "metadata": {},
   "outputs": [
    {
     "data": {
      "image/png": "[encoded data removed]",
      "text/plain": [
       "<Figure size 640x480 with 1 Axes>"
      ]
     },
     "metadata": {},
     "output_type": "display_data"
    }
   ],
   "source": [
    "plt.hist(data2['total_bill'], color='skyblue')\n",
    "plt.title('histogram of the total invoice ')\n",
    "plt.xlabel('Total bill')\n",
    "plt.ylabel('Frequency')\n",
    "plt.show()"
   ]
  },
  {
   "cell_type": "markdown",
   "metadata": {},
   "source": [
    "**2.19. Plot the boxplot of the total invoice**"
   ]
  },
  {
   "cell_type": "code",
   "execution_count": null,
   "metadata": {},
   "outputs": [
    {
     "data": {
      "image/png": "[encoded data removed]",
      "text/plain": [
       "<Figure size 640x480 with 1 Axes>"
      ]
     },
     "metadata": {},
     "output_type": "display_data"
    }
   ],
   "source": [
    "plt.boxplot(data2['total_bill'])\n",
    "plt.title('boxplot of the total invoice')\n",
    "plt.xlabel('Total Bill')\n",
    "plt.show()"
   ]
  },
  {
   "cell_type": "markdown",
   "metadata": {},
   "source": [
    "**2.20. Visualize the relationship between total bill and tip.**"
   ]
  },
  {
   "cell_type": "code",
   "execution_count": null,
   "metadata": {},
   "outputs": [
    {
     "data": {
      "image/png": "[encoded data removed]",
      "text/plain": [
       "<Figure size 800x600 with 1 Axes>"
      ]
     },
     "metadata": {},
     "output_type": "display_data"
    }
   ],
   "source": [
    "plt.figure(figsize=(8, 6))\n",
    "plt.scatter(data2['total_bill'], data2['tip'], color='skyblue', alpha=1)\n",
    "plt.xlabel('Total Bill') \n",
    "plt.ylabel('Tip')\n",
    "plt.title('Relationship between Total Bill and Tip')\n",
    "plt.grid(True)\n",
    "plt.show()"
   ]
  },
  {
   "cell_type": "markdown",
   "metadata": {},
   "source": [
    "**2.21. Compare how much customers have spent between days of the week.**"
   ]
  },
  {
   "cell_type": "code",
   "execution_count": null,
   "metadata": {},
   "outputs": [
    {
     "data": {
      "image/png": "[encoded data removed]",
      "text/plain": [
       "<Figure size 1000x600 with 1 Axes>"
      ]
     },
     "metadata": {},
     "output_type": "display_data"
    }
   ],
   "source": [
    "total_bill_by_day = data2.groupby('day')['total_bill'].sum()\n",
    "total_bill_by_day\n",
    "plt.figure(figsize = (10,6))\n",
    "plt.title('Total Amount Spent by Customers on Each Day of the Week')\n",
    "total_bill_by_day.plot(kind = 'bar')\n",
    "plt.xlabel('Days of weeek')\n",
    "plt.ylabel('Total bill')\n",
    "plt.xticks(rotation = 0)\n",
    "plt.show()"
   ]
  }
 ],
 "metadata": {
  "kernelspec": {
   "display_name": "Python 3",
   "language": "python",
   "name": "python3"
  },
  "language_info": {
   "codemirror_mode": {
    "name": "ipython",
    "version": 3
   },
   "file_extension": ".py",
   "mimetype": "text/x-python",
   "name": "python",
   "nbconvert_exporter": "python",
   "pygments_lexer": "ipython3",
   "version": "3.12.2"
  }
 },
 "nbformat": 4,
 "nbformat_minor": 2
}
