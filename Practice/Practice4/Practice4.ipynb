{
 "cells": [
  {
   "cell_type": "markdown",
   "metadata": {},
   "source": [
    "Bài 1"
   ]
  },
  {
   "cell_type": "code",
   "execution_count": 8,
   "metadata": {},
   "outputs": [
    {
     "name": "stdout",
     "output_type": "stream",
     "text": [
      "a / b =  2.5\n"
     ]
    }
   ],
   "source": [
    "def sol_divideZero (a , b) :\n",
    "    try :\n",
    "        ans = a / b\n",
    "        print(\"a / b = \", ans)\n",
    "    except ZeroDivisionError :\n",
    "        print(\"Lỗi chia 0\")\n",
    "\n",
    "a = float(input(\"Nhập tử số : \"))\n",
    "b = float(input(\"Nhập mẫu số : \"))\n",
    "sol_divideZero(a,b)"
   ]
  },
  {
   "cell_type": "markdown",
   "metadata": {},
   "source": [
    "Bài 2"
   ]
  },
  {
   "cell_type": "code",
   "execution_count": 14,
   "metadata": {},
   "outputs": [
    {
     "name": "stdout",
     "output_type": "stream",
     "text": [
      "Số nguyên vừa nhập :  1\n"
     ]
    }
   ],
   "source": [
    "def sol_ValueError(a) :\n",
    "    try :\n",
    "        check_int = int(a)\n",
    "        print(\"Số nguyên vừa nhập : \", check_int)\n",
    "    except ValueError :\n",
    "        print(\"Lỗi kiểu dữ liệu\")\n",
    "\n",
    "sol_ValueError(input(\"Nhập số nguyên\"))"
   ]
  },
  {
   "cell_type": "markdown",
   "metadata": {},
   "source": [
    "Bài 3"
   ]
  },
  {
   "cell_type": "code",
   "execution_count": 19,
   "metadata": {},
   "outputs": [
    {
     "name": "stdout",
     "output_type": "stream",
     "text": [
      "Không tìm thấy file\n"
     ]
    }
   ],
   "source": [
    "def sol_FileNotFound(filename : str) :\n",
    "    try :\n",
    "        with open(filename) as f :\n",
    "            f.close()\n",
    "    except FileNotFoundError :\n",
    "        print(\"Không tìm thấy file\")\n",
    "\n",
    "sol_FileNotFound('hehe.txt')"
   ]
  },
  {
   "cell_type": "markdown",
   "metadata": {},
   "source": [
    "Bài 4"
   ]
  },
  {
   "cell_type": "code",
   "execution_count": 24,
   "metadata": {},
   "outputs": [
    {
     "name": "stdout",
     "output_type": "stream",
     "text": [
      "Không phải dữ liệu số\n"
     ]
    }
   ],
   "source": [
    "def sol_TypeError(a,b) :\n",
    "    try :\n",
    "        if (isinstance(a,float) or isinstance(a,int)) and (isinstance(b,float) or isinstance(b,int) ) :\n",
    "            print(\"Hai số vừa nhập : \", a, \" \" , b)\n",
    "        else :\n",
    "            raise TypeError(\"Không phải dữ liệu số\")\n",
    "            \n",
    "    except TypeError as TE :\n",
    "        print(TE)\n",
    "\n",
    "sol_TypeError('hehe',2.4)"
   ]
  },
  {
   "cell_type": "markdown",
   "metadata": {},
   "source": [
    "Bài 5"
   ]
  },
  {
   "cell_type": "code",
   "execution_count": 27,
   "metadata": {},
   "outputs": [
    {
     "name": "stdout",
     "output_type": "stream",
     "text": [
      "Lỗi về quyền\n"
     ]
    }
   ],
   "source": [
    "def sol_permissionFile(filename : str) :\n",
    "    try :\n",
    "        with open(filename, \"r\") as f :\n",
    "            content = f.read()\n",
    "            print(content)\n",
    "    except PermissionError :\n",
    "        print(\"Lỗi về quyền\")\n",
    "\n",
    "sol_permissionFile('hehe.txt')"
   ]
  },
  {
   "cell_type": "markdown",
   "metadata": {},
   "source": [
    "Bài 6"
   ]
  },
  {
   "cell_type": "code",
   "execution_count": 30,
   "metadata": {},
   "outputs": [
    {
     "name": "stdout",
     "output_type": "stream",
     "text": [
      "Lỗi chỉ số \n"
     ]
    }
   ],
   "source": [
    "def sol_IndexError(lst : list) :\n",
    "    try :\n",
    "        l = len(lst)\n",
    "        print(lst[l])\n",
    "    except IndexError :\n",
    "        print(\"Lỗi chỉ số \")\n",
    "\n",
    "sol_IndexError([1,2,3])"
   ]
  },
  {
   "cell_type": "markdown",
   "metadata": {},
   "source": [
    "Bài 7"
   ]
  },
  {
   "cell_type": "code",
   "execution_count": 31,
   "metadata": {},
   "outputs": [],
   "source": [
    "def sol_KeyboardInterrupt() :\n",
    "    try :\n",
    "        a = input()\n",
    "    except KeyboardInterupt as KI:\n",
    "        print(KI)\n",
    "sol_KeyboardInterrupt()"
   ]
  },
  {
   "cell_type": "markdown",
   "metadata": {},
   "source": [
    "Bài 8"
   ]
  },
  {
   "cell_type": "code",
   "execution_count": 39,
   "metadata": {},
   "outputs": [
    {
     "name": "stdout",
     "output_type": "stream",
     "text": [
      "Lỗi số học (chia 0)\n"
     ]
    }
   ],
   "source": [
    "def sol_ArithmeticError (a , b) :\n",
    "    try :\n",
    "        ans = a / b\n",
    "        print(\"a / b = \", ans)\n",
    "    except ArithmeticError :\n",
    "        print(\"Lỗi số học (chia 0)\")\n",
    "\n",
    "a = float(input(\"Nhập tử số : \"))\n",
    "b = float(input(\"Nhập mẫu số : \"))\n",
    "sol_ArithmeticError(a,b)"
   ]
  },
  {
   "cell_type": "markdown",
   "metadata": {},
   "source": [
    "Bài 9"
   ]
  },
  {
   "cell_type": "code",
   "execution_count": 43,
   "metadata": {},
   "outputs": [
    {
     "name": "stdout",
     "output_type": "stream",
     "text": [
      "Lỗi: Không thể giải mã tệp với mã hóa UTF-8.\n"
     ]
    }
   ],
   "source": [
    "def sol_DecodeError(filename):\n",
    "    try:\n",
    "        non_utf8_content = \"ñ é ö\"\n",
    "        with open(filename, 'w', encoding='iso-8859-1') as file:\n",
    "            file.write(non_utf8_content)\n",
    "        with open(filename, 'r', encoding='utf-8') as file:\n",
    "            content = file.read()\n",
    "            print(\"Nội dung của tệp:\")\n",
    "            print(content)\n",
    "    except FileNotFoundError:\n",
    "        print(\"Lỗi: Tệp không tồn tại.\")\n",
    "    except UnicodeDecodeError:\n",
    "        print(\"Lỗi: Không thể giải mã tệp với mã hóa UTF-8.\")\n",
    "\n",
    "# Thay đổi tên tệp thành tên tệp thực tế bạn muốn mở\n",
    "filename = \"hello.txt\"\n",
    "\n",
    "# Gọi hàm để đọc tệp\n",
    "sol_DecodeError(filename)\n"
   ]
  },
  {
   "cell_type": "markdown",
   "metadata": {},
   "source": [
    "Bài 10"
   ]
  },
  {
   "cell_type": "code",
   "execution_count": 49,
   "metadata": {},
   "outputs": [
    {
     "name": "stdout",
     "output_type": "stream",
     "text": [
      "Thuộc tinh không tồn tại\n"
     ]
    }
   ],
   "source": [
    "def sol_AttributionError () :\n",
    "    try :\n",
    "        a = [2,1,2,0,0,4]\n",
    "        a.x = 10\n",
    "    except AttributeError :\n",
    "        print(\"Thuộc tinh không tồn tại\")\n",
    "\n",
    "sol_AttributionError()"
   ]
  },
  {
   "cell_type": "markdown",
   "metadata": {},
   "source": [
    "Bài 11 "
   ]
  },
  {
   "cell_type": "code",
   "execution_count": 73,
   "metadata": {},
   "outputs": [
    {
     "name": "stdout",
     "output_type": "stream",
     "text": [
      "Hoan TRINH\n"
     ]
    }
   ],
   "source": [
    "def Capitalize_last_name(name : str) :\n",
    "    try :\n",
    "        # check = isinstance(name, str)     \n",
    "        for char in name :\n",
    "            if char == ' ' : \n",
    "                continue\n",
    "            if not char.isalpha() : \n",
    "                raise TypeError(\"Dữ liệu không hợp lệ\")\n",
    "        lst = name.split()\n",
    "        if len(lst) != 2 : \n",
    "            raise ValueError(\"Lỗi tên k đúng 2 từ\")\n",
    "        \n",
    "        lst[0] = lst[0].capitalize()\n",
    "        lst[1] = lst[1].upper()\n",
    "        name_return = ' '.join(lst)\n",
    "        return name_return\n",
    "    \n",
    "    except TypeError as TE :\n",
    "        return TE\n",
    "    except ValueError as VE:\n",
    "        return VE\n",
    "    \n",
    "print(Capitalize_last_name('hoan Trinh'))"
   ]
  },
  {
   "cell_type": "markdown",
   "metadata": {},
   "source": [
    "Bài 12"
   ]
  },
  {
   "cell_type": "code",
   "execution_count": 14,
   "metadata": {},
   "outputs": [
    {
     "name": "stdout",
     "output_type": "stream",
     "text": [
      "Lỗi: Công thức không hợp lệ\n",
      "Goodbye!\n"
     ]
    }
   ],
   "source": [
    "class FormulaError(Exception):\n",
    "    pass\n",
    "\n",
    "def evaluate_formula(input_formula):\n",
    "    try:\n",
    "        # Phân tách công thức thành các thành phần\n",
    "        parts = input_formula.split()\n",
    "\n",
    "        # Kiểm tra xem có đúng 3 phần tử hay không\n",
    "        if len(parts) != 3:\n",
    "            raise FormulaError(\"Công thức không hợp lệ\")\n",
    "\n",
    "        num1 = float(parts[0])\n",
    "        operator = parts[1]\n",
    "        num2 = float(parts[2])\n",
    "\n",
    "        # Kiểm tra toán tử\n",
    "        if operator not in ['+', '-']:\n",
    "            raise FormulaError(\"Toán tử không hợp lệ\")\n",
    "\n",
    "        # Thực hiện phép tính\n",
    "        if operator == '+':\n",
    "            result = num1 + num2\n",
    "        else:\n",
    "            result = num1 - num2\n",
    "\n",
    "        print(\"Kết quả:\", result)\n",
    "\n",
    "    except ValueError:\n",
    "        raise FormulaError(\"Dữ liệu không phải là số\")\n",
    "\n",
    "# Hàm chính để tương tác với người dùng\n",
    "def interactive_calculator():\n",
    "    while True:\n",
    "        try:\n",
    "            # Nhập công thức từ người dùng\n",
    "            input_formula = input(\"Nhập công thức (số toán_tử số), hoặc 'quit' để thoát: \")\n",
    "\n",
    "            # Kiểm tra nếu người dùng muốn thoát\n",
    "            if input_formula.lower() == 'quit':\n",
    "                print(\"Goodbye!\")\n",
    "                break\n",
    "\n",
    "            # Đánh giá công thức và hiển thị kết quả\n",
    "            evaluate_formula(input_formula)\n",
    "\n",
    "        except FormulaError as e:\n",
    "            print(\"Lỗi:\", e)\n",
    "\n",
    "if __name__ == \"__main__\":\n",
    "    interactive_calculator()\n"
   ]
  }
 ],
 "metadata": {
  "kernelspec": {
   "display_name": "Python 3",
   "language": "python",
   "name": "python3"
  },
  "language_info": {
   "codemirror_mode": {
    "name": "ipython",
    "version": 3
   },
   "file_extension": ".py",
   "mimetype": "text/x-python",
   "name": "python",
   "nbconvert_exporter": "python",
   "pygments_lexer": "ipython3",
   "version": "3.12.2"
  }
 },
 "nbformat": 4,
 "nbformat_minor": 2
}
